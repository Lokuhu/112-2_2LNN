{
  "cells": [
    {
      "cell_type": "markdown",
      "metadata": {
        "id": "view-in-github",
        "colab_type": "text"
      },
      "source": [
        "<a href=\"https://colab.research.google.com/github/Lokuhu/112-2_2LNN/blob/main/%E5%9B%9BD56_HW1_EB.ipynb\" target=\"_parent\"><img src=\"https://colab.research.google.com/assets/colab-badge.svg\" alt=\"Open In Colab\"/></a>"
      ]
    },
    {
      "cell_type": "code",
      "execution_count": null,
      "id": "e2c7f2a9-22ac-4540-a7fe-13fea3afd53c",
      "metadata": {
        "tags": [],
        "id": "e2c7f2a9-22ac-4540-a7fe-13fea3afd53c"
      },
      "outputs": [],
      "source": [
        "import torch\n",
        "import torch.nn as nn\n",
        "import torch.nn.functional as F\n",
        "import pandas as pd\n",
        "import matplotlib.pyplot as plt\n",
        "%matplotlib inline\n",
        "from sklearn.model_selection import train_test_split"
      ]
    },
    {
      "cell_type": "code",
      "source": [
        "# 試算表>檔案>共用>發布到網路 即可於colab中讀取\n",
        "url = 'https://docs.google.com/spreadsheets/d/e/2PACX-1vQhbAejyGUXlZltX2nsbC4sTw890L6081piAP8ZDJVbufqZ9xm-S5P7gIrXnpgszm-U9SmEkBxJc5uF/pub?gid=1265524659&single=true&output=csv'\n",
        "seed = pd.read_csv(url)"
      ],
      "metadata": {
        "id": "uYFXW8-zDbZu"
      },
      "id": "uYFXW8-zDbZu",
      "execution_count": null,
      "outputs": []
    },
    {
      "cell_type": "code",
      "source": [
        "seed['Type'] = seed['Type'].replace(1, 0.0)\n",
        "seed['Type'] = seed['Type'].replace(2, 1.0)\n",
        "seed['Type'] = seed['Type'].replace(3, 2.0)\n",
        "seed"
      ],
      "metadata": {
        "colab": {
          "base_uri": "https://localhost:8080/",
          "height": 423
        },
        "id": "CfY_P0uYHI0q",
        "outputId": "67b22945-1500-4145-b424-97607f7cb32b"
      },
      "id": "CfY_P0uYHI0q",
      "execution_count": null,
      "outputs": [
        {
          "output_type": "execute_result",
          "data": {
            "text/plain": [
              "      Area  Perimeter  Compactness  Kernel.Length  Kernel.Width  \\\n",
              "0    15.26      14.84       0.8710          5.763         3.312   \n",
              "1    14.88      14.57       0.8811          5.554         3.333   \n",
              "2    14.29      14.09       0.9050          5.291         3.337   \n",
              "3    13.84      13.94       0.8955          5.324         3.379   \n",
              "4    16.14      14.99       0.9034          5.658         3.562   \n",
              "..     ...        ...          ...            ...           ...   \n",
              "205  12.19      13.20       0.8783          5.137         2.981   \n",
              "206  11.23      12.88       0.8511          5.140         2.795   \n",
              "207  13.20      13.66       0.8883          5.236         3.232   \n",
              "208  11.84      13.21       0.8521          5.175         2.836   \n",
              "209  12.30      13.34       0.8684          5.243         2.974   \n",
              "\n",
              "     Asymmetry.Coeff  Kernel.Groove  Type  \n",
              "0              2.221          5.220     0  \n",
              "1              1.018          4.956     0  \n",
              "2              2.699          4.825     0  \n",
              "3              2.259          4.805     0  \n",
              "4              1.355          5.175     0  \n",
              "..               ...            ...   ...  \n",
              "205            3.631          4.870     2  \n",
              "206            4.325          5.003     2  \n",
              "207            8.315          5.056     2  \n",
              "208            3.598          5.044     2  \n",
              "209            5.637          5.063     2  \n",
              "\n",
              "[210 rows x 8 columns]"
            ],
            "text/html": [
              "\n",
              "  <div id=\"df-b8a58b7a-401e-4473-afb5-5222b1678289\" class=\"colab-df-container\">\n",
              "    <div>\n",
              "<style scoped>\n",
              "    .dataframe tbody tr th:only-of-type {\n",
              "        vertical-align: middle;\n",
              "    }\n",
              "\n",
              "    .dataframe tbody tr th {\n",
              "        vertical-align: top;\n",
              "    }\n",
              "\n",
              "    .dataframe thead th {\n",
              "        text-align: right;\n",
              "    }\n",
              "</style>\n",
              "<table border=\"1\" class=\"dataframe\">\n",
              "  <thead>\n",
              "    <tr style=\"text-align: right;\">\n",
              "      <th></th>\n",
              "      <th>Area</th>\n",
              "      <th>Perimeter</th>\n",
              "      <th>Compactness</th>\n",
              "      <th>Kernel.Length</th>\n",
              "      <th>Kernel.Width</th>\n",
              "      <th>Asymmetry.Coeff</th>\n",
              "      <th>Kernel.Groove</th>\n",
              "      <th>Type</th>\n",
              "    </tr>\n",
              "  </thead>\n",
              "  <tbody>\n",
              "    <tr>\n",
              "      <th>0</th>\n",
              "      <td>15.26</td>\n",
              "      <td>14.84</td>\n",
              "      <td>0.8710</td>\n",
              "      <td>5.763</td>\n",
              "      <td>3.312</td>\n",
              "      <td>2.221</td>\n",
              "      <td>5.220</td>\n",
              "      <td>0</td>\n",
              "    </tr>\n",
              "    <tr>\n",
              "      <th>1</th>\n",
              "      <td>14.88</td>\n",
              "      <td>14.57</td>\n",
              "      <td>0.8811</td>\n",
              "      <td>5.554</td>\n",
              "      <td>3.333</td>\n",
              "      <td>1.018</td>\n",
              "      <td>4.956</td>\n",
              "      <td>0</td>\n",
              "    </tr>\n",
              "    <tr>\n",
              "      <th>2</th>\n",
              "      <td>14.29</td>\n",
              "      <td>14.09</td>\n",
              "      <td>0.9050</td>\n",
              "      <td>5.291</td>\n",
              "      <td>3.337</td>\n",
              "      <td>2.699</td>\n",
              "      <td>4.825</td>\n",
              "      <td>0</td>\n",
              "    </tr>\n",
              "    <tr>\n",
              "      <th>3</th>\n",
              "      <td>13.84</td>\n",
              "      <td>13.94</td>\n",
              "      <td>0.8955</td>\n",
              "      <td>5.324</td>\n",
              "      <td>3.379</td>\n",
              "      <td>2.259</td>\n",
              "      <td>4.805</td>\n",
              "      <td>0</td>\n",
              "    </tr>\n",
              "    <tr>\n",
              "      <th>4</th>\n",
              "      <td>16.14</td>\n",
              "      <td>14.99</td>\n",
              "      <td>0.9034</td>\n",
              "      <td>5.658</td>\n",
              "      <td>3.562</td>\n",
              "      <td>1.355</td>\n",
              "      <td>5.175</td>\n",
              "      <td>0</td>\n",
              "    </tr>\n",
              "    <tr>\n",
              "      <th>...</th>\n",
              "      <td>...</td>\n",
              "      <td>...</td>\n",
              "      <td>...</td>\n",
              "      <td>...</td>\n",
              "      <td>...</td>\n",
              "      <td>...</td>\n",
              "      <td>...</td>\n",
              "      <td>...</td>\n",
              "    </tr>\n",
              "    <tr>\n",
              "      <th>205</th>\n",
              "      <td>12.19</td>\n",
              "      <td>13.20</td>\n",
              "      <td>0.8783</td>\n",
              "      <td>5.137</td>\n",
              "      <td>2.981</td>\n",
              "      <td>3.631</td>\n",
              "      <td>4.870</td>\n",
              "      <td>2</td>\n",
              "    </tr>\n",
              "    <tr>\n",
              "      <th>206</th>\n",
              "      <td>11.23</td>\n",
              "      <td>12.88</td>\n",
              "      <td>0.8511</td>\n",
              "      <td>5.140</td>\n",
              "      <td>2.795</td>\n",
              "      <td>4.325</td>\n",
              "      <td>5.003</td>\n",
              "      <td>2</td>\n",
              "    </tr>\n",
              "    <tr>\n",
              "      <th>207</th>\n",
              "      <td>13.20</td>\n",
              "      <td>13.66</td>\n",
              "      <td>0.8883</td>\n",
              "      <td>5.236</td>\n",
              "      <td>3.232</td>\n",
              "      <td>8.315</td>\n",
              "      <td>5.056</td>\n",
              "      <td>2</td>\n",
              "    </tr>\n",
              "    <tr>\n",
              "      <th>208</th>\n",
              "      <td>11.84</td>\n",
              "      <td>13.21</td>\n",
              "      <td>0.8521</td>\n",
              "      <td>5.175</td>\n",
              "      <td>2.836</td>\n",
              "      <td>3.598</td>\n",
              "      <td>5.044</td>\n",
              "      <td>2</td>\n",
              "    </tr>\n",
              "    <tr>\n",
              "      <th>209</th>\n",
              "      <td>12.30</td>\n",
              "      <td>13.34</td>\n",
              "      <td>0.8684</td>\n",
              "      <td>5.243</td>\n",
              "      <td>2.974</td>\n",
              "      <td>5.637</td>\n",
              "      <td>5.063</td>\n",
              "      <td>2</td>\n",
              "    </tr>\n",
              "  </tbody>\n",
              "</table>\n",
              "<p>210 rows × 8 columns</p>\n",
              "</div>\n",
              "    <div class=\"colab-df-buttons\">\n",
              "\n",
              "  <div class=\"colab-df-container\">\n",
              "    <button class=\"colab-df-convert\" onclick=\"convertToInteractive('df-b8a58b7a-401e-4473-afb5-5222b1678289')\"\n",
              "            title=\"Convert this dataframe to an interactive table.\"\n",
              "            style=\"display:none;\">\n",
              "\n",
              "  <svg xmlns=\"http://www.w3.org/2000/svg\" height=\"24px\" viewBox=\"0 -960 960 960\">\n",
              "    <path d=\"M120-120v-720h720v720H120Zm60-500h600v-160H180v160Zm220 220h160v-160H400v160Zm0 220h160v-160H400v160ZM180-400h160v-160H180v160Zm440 0h160v-160H620v160ZM180-180h160v-160H180v160Zm440 0h160v-160H620v160Z\"/>\n",
              "  </svg>\n",
              "    </button>\n",
              "\n",
              "  <style>\n",
              "    .colab-df-container {\n",
              "      display:flex;\n",
              "      gap: 12px;\n",
              "    }\n",
              "\n",
              "    .colab-df-convert {\n",
              "      background-color: #E8F0FE;\n",
              "      border: none;\n",
              "      border-radius: 50%;\n",
              "      cursor: pointer;\n",
              "      display: none;\n",
              "      fill: #1967D2;\n",
              "      height: 32px;\n",
              "      padding: 0 0 0 0;\n",
              "      width: 32px;\n",
              "    }\n",
              "\n",
              "    .colab-df-convert:hover {\n",
              "      background-color: #E2EBFA;\n",
              "      box-shadow: 0px 1px 2px rgba(60, 64, 67, 0.3), 0px 1px 3px 1px rgba(60, 64, 67, 0.15);\n",
              "      fill: #174EA6;\n",
              "    }\n",
              "\n",
              "    .colab-df-buttons div {\n",
              "      margin-bottom: 4px;\n",
              "    }\n",
              "\n",
              "    [theme=dark] .colab-df-convert {\n",
              "      background-color: #3B4455;\n",
              "      fill: #D2E3FC;\n",
              "    }\n",
              "\n",
              "    [theme=dark] .colab-df-convert:hover {\n",
              "      background-color: #434B5C;\n",
              "      box-shadow: 0px 1px 3px 1px rgba(0, 0, 0, 0.15);\n",
              "      filter: drop-shadow(0px 1px 2px rgba(0, 0, 0, 0.3));\n",
              "      fill: #FFFFFF;\n",
              "    }\n",
              "  </style>\n",
              "\n",
              "    <script>\n",
              "      const buttonEl =\n",
              "        document.querySelector('#df-b8a58b7a-401e-4473-afb5-5222b1678289 button.colab-df-convert');\n",
              "      buttonEl.style.display =\n",
              "        google.colab.kernel.accessAllowed ? 'block' : 'none';\n",
              "\n",
              "      async function convertToInteractive(key) {\n",
              "        const element = document.querySelector('#df-b8a58b7a-401e-4473-afb5-5222b1678289');\n",
              "        const dataTable =\n",
              "          await google.colab.kernel.invokeFunction('convertToInteractive',\n",
              "                                                    [key], {});\n",
              "        if (!dataTable) return;\n",
              "\n",
              "        const docLinkHtml = 'Like what you see? Visit the ' +\n",
              "          '<a target=\"_blank\" href=https://colab.research.google.com/notebooks/data_table.ipynb>data table notebook</a>'\n",
              "          + ' to learn more about interactive tables.';\n",
              "        element.innerHTML = '';\n",
              "        dataTable['output_type'] = 'display_data';\n",
              "        await google.colab.output.renderOutput(dataTable, element);\n",
              "        const docLink = document.createElement('div');\n",
              "        docLink.innerHTML = docLinkHtml;\n",
              "        element.appendChild(docLink);\n",
              "      }\n",
              "    </script>\n",
              "  </div>\n",
              "\n",
              "\n",
              "<div id=\"df-803580ca-7e3e-4d5f-9022-0a00e2894e83\">\n",
              "  <button class=\"colab-df-quickchart\" onclick=\"quickchart('df-803580ca-7e3e-4d5f-9022-0a00e2894e83')\"\n",
              "            title=\"Suggest charts\"\n",
              "            style=\"display:none;\">\n",
              "\n",
              "<svg xmlns=\"http://www.w3.org/2000/svg\" height=\"24px\"viewBox=\"0 0 24 24\"\n",
              "     width=\"24px\">\n",
              "    <g>\n",
              "        <path d=\"M19 3H5c-1.1 0-2 .9-2 2v14c0 1.1.9 2 2 2h14c1.1 0 2-.9 2-2V5c0-1.1-.9-2-2-2zM9 17H7v-7h2v7zm4 0h-2V7h2v10zm4 0h-2v-4h2v4z\"/>\n",
              "    </g>\n",
              "</svg>\n",
              "  </button>\n",
              "\n",
              "<style>\n",
              "  .colab-df-quickchart {\n",
              "      --bg-color: #E8F0FE;\n",
              "      --fill-color: #1967D2;\n",
              "      --hover-bg-color: #E2EBFA;\n",
              "      --hover-fill-color: #174EA6;\n",
              "      --disabled-fill-color: #AAA;\n",
              "      --disabled-bg-color: #DDD;\n",
              "  }\n",
              "\n",
              "  [theme=dark] .colab-df-quickchart {\n",
              "      --bg-color: #3B4455;\n",
              "      --fill-color: #D2E3FC;\n",
              "      --hover-bg-color: #434B5C;\n",
              "      --hover-fill-color: #FFFFFF;\n",
              "      --disabled-bg-color: #3B4455;\n",
              "      --disabled-fill-color: #666;\n",
              "  }\n",
              "\n",
              "  .colab-df-quickchart {\n",
              "    background-color: var(--bg-color);\n",
              "    border: none;\n",
              "    border-radius: 50%;\n",
              "    cursor: pointer;\n",
              "    display: none;\n",
              "    fill: var(--fill-color);\n",
              "    height: 32px;\n",
              "    padding: 0;\n",
              "    width: 32px;\n",
              "  }\n",
              "\n",
              "  .colab-df-quickchart:hover {\n",
              "    background-color: var(--hover-bg-color);\n",
              "    box-shadow: 0 1px 2px rgba(60, 64, 67, 0.3), 0 1px 3px 1px rgba(60, 64, 67, 0.15);\n",
              "    fill: var(--button-hover-fill-color);\n",
              "  }\n",
              "\n",
              "  .colab-df-quickchart-complete:disabled,\n",
              "  .colab-df-quickchart-complete:disabled:hover {\n",
              "    background-color: var(--disabled-bg-color);\n",
              "    fill: var(--disabled-fill-color);\n",
              "    box-shadow: none;\n",
              "  }\n",
              "\n",
              "  .colab-df-spinner {\n",
              "    border: 2px solid var(--fill-color);\n",
              "    border-color: transparent;\n",
              "    border-bottom-color: var(--fill-color);\n",
              "    animation:\n",
              "      spin 1s steps(1) infinite;\n",
              "  }\n",
              "\n",
              "  @keyframes spin {\n",
              "    0% {\n",
              "      border-color: transparent;\n",
              "      border-bottom-color: var(--fill-color);\n",
              "      border-left-color: var(--fill-color);\n",
              "    }\n",
              "    20% {\n",
              "      border-color: transparent;\n",
              "      border-left-color: var(--fill-color);\n",
              "      border-top-color: var(--fill-color);\n",
              "    }\n",
              "    30% {\n",
              "      border-color: transparent;\n",
              "      border-left-color: var(--fill-color);\n",
              "      border-top-color: var(--fill-color);\n",
              "      border-right-color: var(--fill-color);\n",
              "    }\n",
              "    40% {\n",
              "      border-color: transparent;\n",
              "      border-right-color: var(--fill-color);\n",
              "      border-top-color: var(--fill-color);\n",
              "    }\n",
              "    60% {\n",
              "      border-color: transparent;\n",
              "      border-right-color: var(--fill-color);\n",
              "    }\n",
              "    80% {\n",
              "      border-color: transparent;\n",
              "      border-right-color: var(--fill-color);\n",
              "      border-bottom-color: var(--fill-color);\n",
              "    }\n",
              "    90% {\n",
              "      border-color: transparent;\n",
              "      border-bottom-color: var(--fill-color);\n",
              "    }\n",
              "  }\n",
              "</style>\n",
              "\n",
              "  <script>\n",
              "    async function quickchart(key) {\n",
              "      const quickchartButtonEl =\n",
              "        document.querySelector('#' + key + ' button');\n",
              "      quickchartButtonEl.disabled = true;  // To prevent multiple clicks.\n",
              "      quickchartButtonEl.classList.add('colab-df-spinner');\n",
              "      try {\n",
              "        const charts = await google.colab.kernel.invokeFunction(\n",
              "            'suggestCharts', [key], {});\n",
              "      } catch (error) {\n",
              "        console.error('Error during call to suggestCharts:', error);\n",
              "      }\n",
              "      quickchartButtonEl.classList.remove('colab-df-spinner');\n",
              "      quickchartButtonEl.classList.add('colab-df-quickchart-complete');\n",
              "    }\n",
              "    (() => {\n",
              "      let quickchartButtonEl =\n",
              "        document.querySelector('#df-803580ca-7e3e-4d5f-9022-0a00e2894e83 button');\n",
              "      quickchartButtonEl.style.display =\n",
              "        google.colab.kernel.accessAllowed ? 'block' : 'none';\n",
              "    })();\n",
              "  </script>\n",
              "</div>\n",
              "    </div>\n",
              "  </div>\n"
            ],
            "application/vnd.google.colaboratory.intrinsic+json": {
              "type": "dataframe",
              "variable_name": "seed",
              "summary": "{\n  \"name\": \"seed\",\n  \"rows\": 210,\n  \"fields\": [\n    {\n      \"column\": \"Area\",\n      \"properties\": {\n        \"dtype\": \"number\",\n        \"std\": 2.909699430687361,\n        \"min\": 10.59,\n        \"max\": 21.18,\n        \"num_unique_values\": 193,\n        \"samples\": [\n          14.86,\n          12.49,\n          16.53\n        ],\n        \"semantic_type\": \"\",\n        \"description\": \"\"\n      }\n    },\n    {\n      \"column\": \"Perimeter\",\n      \"properties\": {\n        \"dtype\": \"number\",\n        \"std\": 1.305958726564022,\n        \"min\": 12.41,\n        \"max\": 17.25,\n        \"num_unique_values\": 170,\n        \"samples\": [\n          13.45,\n          14.41,\n          13.92\n        ],\n        \"semantic_type\": \"\",\n        \"description\": \"\"\n      }\n    },\n    {\n      \"column\": \"Compactness\",\n      \"properties\": {\n        \"dtype\": \"number\",\n        \"std\": 0.023629416583846496,\n        \"min\": 0.8081,\n        \"max\": 0.9183,\n        \"num_unique_values\": 186,\n        \"samples\": [\n          0.9064,\n          0.856,\n          0.8372\n        ],\n        \"semantic_type\": \"\",\n        \"description\": \"\"\n      }\n    },\n    {\n      \"column\": \"Kernel.Length\",\n      \"properties\": {\n        \"dtype\": \"number\",\n        \"std\": 0.4430634777264493,\n        \"min\": 4.899,\n        \"max\": 6.675,\n        \"num_unique_values\": 188,\n        \"samples\": [\n          5.183,\n          5.186,\n          5.205\n        ],\n        \"semantic_type\": \"\",\n        \"description\": \"\"\n      }\n    },\n    {\n      \"column\": \"Kernel.Width\",\n      \"properties\": {\n        \"dtype\": \"number\",\n        \"std\": 0.37771444490658734,\n        \"min\": 2.63,\n        \"max\": 4.033,\n        \"num_unique_values\": 184,\n        \"samples\": [\n          3.168,\n          3.393,\n          2.641\n        ],\n        \"semantic_type\": \"\",\n        \"description\": \"\"\n      }\n    },\n    {\n      \"column\": \"Asymmetry.Coeff\",\n      \"properties\": {\n        \"dtype\": \"number\",\n        \"std\": 1.5035571308217794,\n        \"min\": 0.7651,\n        \"max\": 8.456,\n        \"num_unique_values\": 207,\n        \"samples\": [\n          6.388,\n          4.185,\n          4.92\n        ],\n        \"semantic_type\": \"\",\n        \"description\": \"\"\n      }\n    },\n    {\n      \"column\": \"Kernel.Groove\",\n      \"properties\": {\n        \"dtype\": \"number\",\n        \"std\": 0.4914804991024052,\n        \"min\": 4.519,\n        \"max\": 6.55,\n        \"num_unique_values\": 148,\n        \"samples\": [\n          5.308,\n          4.703,\n          4.957\n        ],\n        \"semantic_type\": \"\",\n        \"description\": \"\"\n      }\n    },\n    {\n      \"column\": \"Type\",\n      \"properties\": {\n        \"dtype\": \"number\",\n        \"std\": 0,\n        \"min\": 0,\n        \"max\": 2,\n        \"num_unique_values\": 3,\n        \"samples\": [\n          0,\n          1,\n          2\n        ],\n        \"semantic_type\": \"\",\n        \"description\": \"\"\n      }\n    }\n  ]\n}"
            }
          },
          "metadata": {},
          "execution_count": 3
        }
      ]
    },
    {
      "cell_type": "code",
      "execution_count": null,
      "id": "a28569b2-f6fb-4d8b-a59f-d1823be1ccdc",
      "metadata": {
        "tags": [],
        "id": "a28569b2-f6fb-4d8b-a59f-d1823be1ccdc"
      },
      "outputs": [],
      "source": [
        "# Split data\n",
        "X = seed.drop('Type',axis=1)\n",
        "y = seed['Type']\n",
        "\n",
        "# Covert these to numpy arr\n",
        "X = X.values\n",
        "y = y.values\n",
        "\n",
        "# 20%test, 80%training\n",
        "X_train, X_test, y_train, y_test=train_test_split (X, y ,test_size = 0.2, random_state = 30)\n",
        "\n",
        "# Covert X and y to float tensors\n",
        "X_train = torch.FloatTensor(X_train)\n",
        "X_test = torch.FloatTensor(X_test)\n",
        "y_train = torch.LongTensor(y_train)\n",
        "y_test = torch.LongTensor(y_test)"
      ]
    },
    {
      "cell_type": "markdown",
      "id": "e4079bfb-c967-464a-ac5a-84fd99c943f8",
      "metadata": {
        "id": "e4079bfb-c967-464a-ac5a-84fd99c943f8"
      },
      "source": [
        "# Model 1"
      ]
    },
    {
      "cell_type": "code",
      "execution_count": null,
      "id": "49c1bc67-cd05-4d3f-9efe-114d180026fa",
      "metadata": {
        "tags": [],
        "id": "49c1bc67-cd05-4d3f-9efe-114d180026fa"
      },
      "outputs": [],
      "source": [
        "# hidden nodes = 8, activation function = ReLU, Optimizer = Adam, learning epochs = 100, learning rate = 0.01\n",
        "class Model1(nn.Module):\n",
        "    #Input layer (7 features)\n",
        "    #Hidden layer1 (numbers of neurons)\n",
        "    #output (3 types)\n",
        "    def __init__ (self,in_features = 7, h1 = 8, out_features = 3):\n",
        "        super().__init__()\n",
        "        self.fc1=nn.Linear(in_features,h1)\n",
        "        self.out=nn.Linear(h1,out_features)\n",
        "\n",
        "    def forward(self,x):\n",
        "        x=F.relu(self.fc1(x))\n",
        "        x=F.relu(self.out(x))\n",
        "\n",
        "        return x"
      ]
    },
    {
      "cell_type": "code",
      "execution_count": null,
      "id": "67343eb9-e8a9-405d-a1fc-2971393e48da",
      "metadata": {
        "tags": [],
        "id": "67343eb9-e8a9-405d-a1fc-2971393e48da"
      },
      "outputs": [],
      "source": [
        "# 手動\n",
        "torch.manual_seed(45)\n",
        "model1 = Model1()"
      ]
    },
    {
      "cell_type": "code",
      "execution_count": null,
      "id": "7e9dddbf-6c66-4d8e-9093-00fa089d0e3a",
      "metadata": {
        "tags": [],
        "id": "7e9dddbf-6c66-4d8e-9093-00fa089d0e3a"
      },
      "outputs": [],
      "source": [
        "# 設定優化器\n",
        "criterion = nn.CrossEntropyLoss()\n",
        "optimizer=torch.optim.Adam(model1.parameters(),lr=0.01)"
      ]
    },
    {
      "cell_type": "code",
      "execution_count": null,
      "id": "ba58a84e-6d0a-4219-a81b-f7a23ae6538d",
      "metadata": {
        "tags": [],
        "colab": {
          "base_uri": "https://localhost:8080/"
        },
        "id": "ba58a84e-6d0a-4219-a81b-f7a23ae6538d",
        "outputId": "317b1edd-a0b9-40fc-bfba-46a7da7244fe"
      },
      "outputs": [
        {
          "output_type": "execute_result",
          "data": {
            "text/plain": [
              "Model1(\n",
              "  (fc1): Linear(in_features=7, out_features=8, bias=True)\n",
              "  (out): Linear(in_features=8, out_features=3, bias=True)\n",
              ")"
            ]
          },
          "metadata": {},
          "execution_count": 8
        }
      ],
      "source": [
        "# 印出model\n",
        "model1"
      ]
    },
    {
      "cell_type": "code",
      "execution_count": null,
      "id": "72867b7f-0d7f-4d80-9c25-ac19322f86a6",
      "metadata": {
        "tags": [],
        "id": "72867b7f-0d7f-4d80-9c25-ac19322f86a6",
        "outputId": "e25ea653-dda2-49ec-bb59-cba31dd1fb3a",
        "colab": {
          "base_uri": "https://localhost:8080/"
        }
      },
      "outputs": [
        {
          "output_type": "stream",
          "name": "stdout",
          "text": [
            "Epoch: 0 and loss: 1.0986120700836182\n",
            "Epoch: 10 and loss: 1.0986120700836182\n",
            "Epoch: 20 and loss: 1.0986120700836182\n",
            "Epoch: 30 and loss: 1.0986120700836182\n",
            "Epoch: 40 and loss: 1.0986120700836182\n",
            "Epoch: 50 and loss: 1.0986120700836182\n",
            "Epoch: 60 and loss: 1.0986120700836182\n",
            "Epoch: 70 and loss: 1.0986120700836182\n",
            "Epoch: 80 and loss: 1.0986120700836182\n",
            "Epoch: 90 and loss: 1.0986120700836182\n"
          ]
        }
      ],
      "source": [
        "#Train the model1\n",
        "epochs=100\n",
        "losses=[]\n",
        "for i in range(epochs):\n",
        "    #go forward and get a predictions\n",
        "    y_pred=model1.forward(X_train)#get predicted results\n",
        "\n",
        "    #Measure the loss/error, gonna be heigh at first\n",
        "    loss=criterion(y_pred,y_train)\n",
        "\n",
        "    #Keep track the loss\n",
        "    losses.append(loss.detach().numpy())\n",
        "\n",
        "    #print every 10 epoch\n",
        "    if i%10 ==0:\n",
        "        print(f'Epoch: {i} and loss: {loss}')\n",
        "    #Do some back propagation: take the error rate of forward propagation and feed it back\n",
        "    #thru the network to find tuns and weights\n",
        "    optimizer.zero_grad()\n",
        "    loss.backward()\n",
        "    optimizer.step()"
      ]
    },
    {
      "cell_type": "code",
      "execution_count": null,
      "id": "77e511ca-0711-4776-8c3d-4104e433057d",
      "metadata": {
        "tags": [],
        "id": "77e511ca-0711-4776-8c3d-4104e433057d",
        "outputId": "61c6f448-98f7-4749-cb57-b0f4c804c06a",
        "colab": {
          "base_uri": "https://localhost:8080/",
          "height": 466
        }
      },
      "outputs": [
        {
          "output_type": "execute_result",
          "data": {
            "text/plain": [
              "Text(0.5, 0, 'Epoch')"
            ]
          },
          "metadata": {},
          "execution_count": 10
        },
        {
          "output_type": "display_data",
          "data": {
            "text/plain": [
              "<Figure size 640x480 with 1 Axes>"
            ],
            "image/png": "[encoded data removed]"
          },
          "metadata": {}
        }
      ],
      "source": [
        "# 生成圖表\n",
        "plt.plot(range(epochs),losses)\n",
        "plt.ylabel('loss/error')\n",
        "plt.xlabel('Epoch')"
      ]
    },
    {
      "cell_type": "code",
      "execution_count": null,
      "id": "baf282cc-8953-4027-9c43-1714339b040c",
      "metadata": {
        "tags": [],
        "id": "baf282cc-8953-4027-9c43-1714339b040c"
      },
      "outputs": [],
      "source": [
        "# Evaluate Model1 on test dataset (validation model1 on test set)\n",
        "with torch.no_grad(): #basically turn off back propogation\n",
        "    y_eval = model1.forward(X_test) #X_test are features from our test set, y_eval will be predictions\n",
        "    loss=criterion(y_eval,y_test)# Find the loss or error"
      ]
    },
    {
      "cell_type": "code",
      "execution_count": null,
      "id": "15b55e0b-d3e6-4599-b5d7-a8af265b8861",
      "metadata": {
        "tags": [],
        "id": "15b55e0b-d3e6-4599-b5d7-a8af265b8861",
        "outputId": "b38af66e-3f25-43b7-e360-6ef633f28288",
        "colab": {
          "base_uri": "https://localhost:8080/"
        }
      },
      "outputs": [
        {
          "output_type": "execute_result",
          "data": {
            "text/plain": [
              "tensor(1.0986)"
            ]
          },
          "metadata": {},
          "execution_count": 12
        }
      ],
      "source": [
        "# 印出loss\n",
        "loss"
      ]
    },
    {
      "cell_type": "code",
      "execution_count": null,
      "id": "8aae6499-6a50-4726-8059-5635809d2ef5",
      "metadata": {
        "tags": [],
        "id": "8aae6499-6a50-4726-8059-5635809d2ef5",
        "outputId": "c5c71588-0cab-4513-ba2f-6228b23febb2",
        "colab": {
          "base_uri": "https://localhost:8080/"
        }
      },
      "outputs": [
        {
          "output_type": "stream",
          "name": "stdout",
          "text": [
            "1. tensor([0., 0., 0.]) \t 1 \t 0\n",
            "2. tensor([0., 0., 0.]) \t 2 \t 0\n",
            "3. tensor([0., 0., 0.]) \t 2 \t 0\n",
            "4. tensor([0., 0., 0.]) \t 1 \t 0\n",
            "5. tensor([0., 0., 0.]) \t 0 \t 0\n",
            "6. tensor([0., 0., 0.]) \t 2 \t 0\n",
            "7. tensor([0., 0., 0.]) \t 0 \t 0\n",
            "8. tensor([0., 0., 0.]) \t 0 \t 0\n",
            "9. tensor([0., 0., 0.]) \t 2 \t 0\n",
            "10. tensor([0., 0., 0.]) \t 1 \t 0\n",
            "11. tensor([0., 0., 0.]) \t 0 \t 0\n",
            "12. tensor([0., 0., 0.]) \t 1 \t 0\n",
            "13. tensor([0., 0., 0.]) \t 1 \t 0\n",
            "14. tensor([0., 0., 0.]) \t 0 \t 0\n",
            "15. tensor([0., 0., 0.]) \t 2 \t 0\n",
            "16. tensor([0., 0., 0.]) \t 2 \t 0\n",
            "17. tensor([0., 0., 0.]) \t 2 \t 0\n",
            "18. tensor([0., 0., 0.]) \t 2 \t 0\n",
            "19. tensor([0., 0., 0.]) \t 0 \t 0\n",
            "20. tensor([0., 0., 0.]) \t 2 \t 0\n",
            "21. tensor([0., 0., 0.]) \t 2 \t 0\n",
            "22. tensor([0., 0., 0.]) \t 1 \t 0\n",
            "23. tensor([0., 0., 0.]) \t 0 \t 0\n",
            "24. tensor([0., 0., 0.]) \t 0 \t 0\n",
            "25. tensor([0., 0., 0.]) \t 1 \t 0\n",
            "26. tensor([0., 0., 0.]) \t 0 \t 0\n",
            "27. tensor([0., 0., 0.]) \t 0 \t 0\n",
            "28. tensor([0., 0., 0.]) \t 2 \t 0\n",
            "29. tensor([0., 0., 0.]) \t 1 \t 0\n",
            "30. tensor([0., 0., 0.]) \t 2 \t 0\n",
            "31. tensor([0., 0., 0.]) \t 2 \t 0\n",
            "32. tensor([0., 0., 0.]) \t 1 \t 0\n",
            "33. tensor([0., 0., 0.]) \t 0 \t 0\n",
            "34. tensor([0., 0., 0.]) \t 1 \t 0\n",
            "35. tensor([0., 0., 0.]) \t 2 \t 0\n",
            "36. tensor([0., 0., 0.]) \t 1 \t 0\n",
            "37. tensor([0., 0., 0.]) \t 1 \t 0\n",
            "38. tensor([0., 0., 0.]) \t 0 \t 0\n",
            "39. tensor([0., 0., 0.]) \t 2 \t 0\n",
            "40. tensor([0., 0., 0.]) \t 2 \t 0\n",
            "41. tensor([0., 0., 0.]) \t 1 \t 0\n",
            "42. tensor([0., 0., 0.]) \t 0 \t 0\n",
            "we got 13 correct!\n",
            "the accuracy is 0.30952380952380953\n"
          ]
        }
      ],
      "source": [
        "correct=0\n",
        "with torch.no_grad():\n",
        "    for i, data in enumerate(X_test):\n",
        "        y_val=model1.forward(data)\n",
        "\n",
        "        # model辨別的結果\n",
        "        print(f'{i+1}. {str(y_val)} \\t {y_test[i]} \\t {y_val.argmax().item()}')\n",
        "\n",
        "        # 結果正確與否\n",
        "        if y_val.argmax().item() == y_test[i]:\n",
        "            correct+=1\n",
        "print(f'we got {correct} correct!') # 正確的有幾個\n",
        "print(f'the accuracy is {correct/len(y_test)}') # 準確率多高"
      ]
    },
    {
      "cell_type": "markdown",
      "id": "b79ae540-848b-4e82-b4f5-b89c8b0e231f",
      "metadata": {
        "id": "b79ae540-848b-4e82-b4f5-b89c8b0e231f"
      },
      "source": [
        "# Model 2"
      ]
    },
    {
      "cell_type": "code",
      "execution_count": null,
      "id": "c1675386-d855-42bd-b78f-57c06dfee068",
      "metadata": {
        "tags": [],
        "id": "c1675386-d855-42bd-b78f-57c06dfee068"
      },
      "outputs": [],
      "source": [
        "#hidden nodes = 5, activation function = ReLu, Optimizer = Adam, learning epochs = 200, learning rate=0.04\n",
        "class Model2(nn.Module):\n",
        "\n",
        "    def __init__ (self,in_features = 7, h1 = 5, out_features = 3):\n",
        "        super().__init__()\n",
        "        self.fc1=nn.Linear(in_features,h1)\n",
        "        self.out=nn.Linear(h1,out_features)\n",
        "\n",
        "    def forward(self,x):\n",
        "        x=F.relu(self.fc1(x))\n",
        "        x=F.relu(self.out(x))\n",
        "\n",
        "        return x\n",
        "\n",
        "torch.manual_seed(40)\n",
        "model2=Model2()\n",
        "\n",
        "# Set the criterion of model2 to measure the error, how far off the predictions are from the data\n",
        "criterion = nn.CrossEntropyLoss()\n",
        "optimizer=torch.optim.Adam(model2.parameters(),lr=0.04)"
      ]
    },
    {
      "cell_type": "code",
      "execution_count": null,
      "id": "e32a7797-63e9-4c76-b46c-80cd772ec499",
      "metadata": {
        "tags": [],
        "id": "e32a7797-63e9-4c76-b46c-80cd772ec499",
        "outputId": "f4549083-71fd-45db-8dcb-961b0b960d5f",
        "colab": {
          "base_uri": "https://localhost:8080/"
        }
      },
      "outputs": [
        {
          "output_type": "execute_result",
          "data": {
            "text/plain": [
              "Model2(\n",
              "  (fc1): Linear(in_features=7, out_features=5, bias=True)\n",
              "  (out): Linear(in_features=5, out_features=3, bias=True)\n",
              ")"
            ]
          },
          "metadata": {},
          "execution_count": 15
        }
      ],
      "source": [
        "model2"
      ]
    },
    {
      "cell_type": "code",
      "execution_count": null,
      "id": "2d0a2fce-c7e7-41fd-8ec8-29a082a55cef",
      "metadata": {
        "tags": [],
        "id": "2d0a2fce-c7e7-41fd-8ec8-29a082a55cef",
        "outputId": "32c61a8f-e130-41db-875b-d395cc76db51",
        "colab": {
          "base_uri": "https://localhost:8080/"
        }
      },
      "outputs": [
        {
          "output_type": "stream",
          "name": "stdout",
          "text": [
            "Epoch: 0 and loss: 1.109689712524414\n",
            "Epoch: 10 and loss: 1.09853994846344\n",
            "Epoch: 20 and loss: 1.0985366106033325\n",
            "Epoch: 30 and loss: 1.098533034324646\n",
            "Epoch: 40 and loss: 1.098533272743225\n",
            "Epoch: 50 and loss: 1.0985331535339355\n",
            "Epoch: 60 and loss: 1.098533034324646\n",
            "Epoch: 70 and loss: 1.0985326766967773\n",
            "Epoch: 80 and loss: 1.0985326766967773\n",
            "Epoch: 90 and loss: 1.098533034324646\n",
            "Epoch: 100 and loss: 1.0985326766967773\n",
            "Epoch: 110 and loss: 1.098532795906067\n",
            "Epoch: 120 and loss: 1.0985329151153564\n",
            "Epoch: 130 and loss: 1.0985326766967773\n",
            "Epoch: 140 and loss: 1.0985326766967773\n",
            "Epoch: 150 and loss: 1.098532795906067\n",
            "Epoch: 160 and loss: 1.0985326766967773\n",
            "Epoch: 170 and loss: 1.098533034324646\n",
            "Epoch: 180 and loss: 1.0985326766967773\n",
            "Epoch: 190 and loss: 1.0985326766967773\n"
          ]
        }
      ],
      "source": [
        "#Train the model2\n",
        "epochs = 200\n",
        "losses = []\n",
        "for i in range(epochs):\n",
        "    #go forward and get a predictions\n",
        "    y_pred=model2.forward(X_train)#get predicted results\n",
        "\n",
        "    #Measure the loss/error, gonna be heigh at first\n",
        "    loss=criterion(y_pred,y_train)\n",
        "\n",
        "    #Keep trach the loss\n",
        "    losses.append(loss.detach().numpy())\n",
        "\n",
        "    #print every 10 epoch\n",
        "    if i%10 == 0:\n",
        "        print(f'Epoch: {i} and loss: {loss}')\n",
        "    #Do some back propagation: take the error rate of forward propagation and feed it back\n",
        "    #thru the network to find tuns and weights\n",
        "    optimizer.zero_grad()\n",
        "    loss.backward()\n",
        "    optimizer.step()"
      ]
    },
    {
      "cell_type": "code",
      "execution_count": null,
      "id": "2a0387d8-0b34-4903-92a7-352b52682c45",
      "metadata": {
        "id": "2a0387d8-0b34-4903-92a7-352b52682c45",
        "outputId": "8adde86c-b771-4dd3-b0d1-2aebea8dffd3",
        "colab": {
          "base_uri": "https://localhost:8080/",
          "height": 466
        }
      },
      "outputs": [
        {
          "output_type": "execute_result",
          "data": {
            "text/plain": [
              "Text(0.5, 0, 'Epoch')"
            ]
          },
          "metadata": {},
          "execution_count": 17
        },
        {
          "output_type": "display_data",
          "data": {
            "text/plain": [
              "<Figure size 640x480 with 1 Axes>"
            ],
            "image/png": "[encoded data removed]"
          },
          "metadata": {}
        }
      ],
      "source": [
        "plt.plot(range(epochs),losses)\n",
        "plt.ylabel('loss/error')\n",
        "plt.xlabel('Epoch')"
      ]
    },
    {
      "cell_type": "code",
      "execution_count": null,
      "id": "4e0acba9-53bd-4503-a9a0-d896102d8fd7",
      "metadata": {
        "id": "4e0acba9-53bd-4503-a9a0-d896102d8fd7"
      },
      "outputs": [],
      "source": [
        "# Evaluate Model2 on test dataset (validation model1 on test set)\n",
        "with torch.no_grad(): #basically turn off back propogation\n",
        "    y_eval = model2.forward(X_test) #X_test are features from our test set, y_eval will be predictions\n",
        "    loss=criterion(y_eval,y_test)# Find the loss or error"
      ]
    },
    {
      "cell_type": "code",
      "execution_count": null,
      "id": "a052a30a-60f1-4d0d-8576-dfc169553f01",
      "metadata": {
        "tags": [],
        "id": "a052a30a-60f1-4d0d-8576-dfc169553f01",
        "outputId": "cf6179a0-c2e5-4a09-9092-5fc4bbe7aff2",
        "colab": {
          "base_uri": "https://localhost:8080/"
        }
      },
      "outputs": [
        {
          "output_type": "execute_result",
          "data": {
            "text/plain": [
              "tensor(1.0993)"
            ]
          },
          "metadata": {},
          "execution_count": 19
        }
      ],
      "source": [
        "loss"
      ]
    },
    {
      "cell_type": "code",
      "execution_count": null,
      "id": "7f5d2b93-b39d-4629-b092-e06fad82ecf6",
      "metadata": {
        "tags": [],
        "id": "7f5d2b93-b39d-4629-b092-e06fad82ecf6",
        "outputId": "64d914a6-15ce-455d-e344-883722efb70d",
        "colab": {
          "base_uri": "https://localhost:8080/"
        }
      },
      "outputs": [
        {
          "output_type": "stream",
          "name": "stdout",
          "text": [
            "1. tensor([0.0000, 0.0267, 0.0000]) \t 1 \t 1\n",
            "2. tensor([0.0000, 0.0267, 0.0000]) \t 2 \t 1\n",
            "3. tensor([0.0000, 0.0267, 0.0000]) \t 2 \t 1\n",
            "4. tensor([0.0000, 0.0267, 0.0000]) \t 1 \t 1\n",
            "5. tensor([0.0000, 0.0267, 0.0000]) \t 0 \t 1\n",
            "6. tensor([0.0000, 0.0267, 0.0000]) \t 2 \t 1\n",
            "7. tensor([0.0000, 0.0267, 0.0000]) \t 0 \t 1\n",
            "8. tensor([0.0000, 0.0267, 0.0000]) \t 0 \t 1\n",
            "9. tensor([0.0000, 0.0267, 0.0000]) \t 2 \t 1\n",
            "10. tensor([0.0000, 0.0267, 0.0000]) \t 1 \t 1\n",
            "11. tensor([0.0000, 0.0267, 0.0000]) \t 0 \t 1\n",
            "12. tensor([0.0000, 0.0267, 0.0000]) \t 1 \t 1\n",
            "13. tensor([0.0000, 0.0267, 0.0000]) \t 1 \t 1\n",
            "14. tensor([0.0000, 0.0267, 0.0000]) \t 0 \t 1\n",
            "15. tensor([0.0000, 0.0267, 0.0000]) \t 2 \t 1\n",
            "16. tensor([0.0000, 0.0267, 0.0000]) \t 2 \t 1\n",
            "17. tensor([0.0000, 0.0267, 0.0000]) \t 2 \t 1\n",
            "18. tensor([0.0000, 0.0267, 0.0000]) \t 2 \t 1\n",
            "19. tensor([0.0000, 0.0267, 0.0000]) \t 0 \t 1\n",
            "20. tensor([0.0000, 0.0267, 0.0000]) \t 2 \t 1\n",
            "21. tensor([0.0000, 0.0267, 0.0000]) \t 2 \t 1\n",
            "22. tensor([0.0000, 0.0267, 0.0000]) \t 1 \t 1\n",
            "23. tensor([0.0000, 0.0267, 0.0000]) \t 0 \t 1\n",
            "24. tensor([0.0000, 0.0267, 0.0000]) \t 0 \t 1\n",
            "25. tensor([0.0000, 0.0267, 0.0000]) \t 1 \t 1\n",
            "26. tensor([0.0000, 0.0267, 0.0000]) \t 0 \t 1\n",
            "27. tensor([0.0000, 0.0267, 0.0000]) \t 0 \t 1\n",
            "28. tensor([0.0000, 0.0267, 0.0000]) \t 2 \t 1\n",
            "29. tensor([0.0000, 0.0267, 0.0000]) \t 1 \t 1\n",
            "30. tensor([0.0000, 0.0267, 0.0000]) \t 2 \t 1\n",
            "31. tensor([0.0000, 0.0267, 0.0000]) \t 2 \t 1\n",
            "32. tensor([0.0000, 0.0267, 0.0000]) \t 1 \t 1\n",
            "33. tensor([0.0000, 0.0267, 0.0000]) \t 0 \t 1\n",
            "34. tensor([0.0000, 0.0267, 0.0000]) \t 1 \t 1\n",
            "35. tensor([0.0000, 0.0267, 0.0000]) \t 2 \t 1\n",
            "36. tensor([0.0000, 0.0267, 0.0000]) \t 1 \t 1\n",
            "37. tensor([0.0000, 0.0267, 0.0000]) \t 1 \t 1\n",
            "38. tensor([0.0000, 0.0267, 0.0000]) \t 0 \t 1\n",
            "39. tensor([0.0000, 0.0267, 0.0000]) \t 2 \t 1\n",
            "40. tensor([0.0000, 0.0267, 0.0000]) \t 2 \t 1\n",
            "41. tensor([0.0000, 0.0267, 0.0000]) \t 1 \t 1\n",
            "42. tensor([0.0000, 0.0267, 0.0000]) \t 0 \t 1\n",
            "we got 13 correct!\n",
            "the accuracy is 0.30952380952380953\n"
          ]
        }
      ],
      "source": [
        "correct=0\n",
        "with torch.no_grad():\n",
        "    for i, data in enumerate(X_test):\n",
        "        y_val=model2.forward(data)\n",
        "\n",
        "        print(f'{i+1}. {str(y_val)} \\t {y_test[i]} \\t {y_val.argmax().item()}')\n",
        "\n",
        "        if y_val.argmax().item() == y_test[i]:\n",
        "            correct+=1\n",
        "print(f'we got {correct} correct!')\n",
        "print(f'the accuracy is {correct/len(y_test)}')"
      ]
    },
    {
      "cell_type": "markdown",
      "id": "537b2d82-5b50-4dbd-aa80-9c6d99be8a29",
      "metadata": {
        "id": "537b2d82-5b50-4dbd-aa80-9c6d99be8a29"
      },
      "source": [
        "# Model3"
      ]
    },
    {
      "cell_type": "code",
      "execution_count": null,
      "id": "8b7e8e69-781c-4082-80a3-e588ce7a2d85",
      "metadata": {
        "tags": [],
        "id": "8b7e8e69-781c-4082-80a3-e588ce7a2d85"
      },
      "outputs": [],
      "source": [
        "#hidden nodes = 11, activation function = ReLu, Optimizer = Adam, learning epochs = 300, learning rate = 0.02\n",
        "class Model3(nn.Module):\n",
        "\n",
        "    def __init__ (self,in_features = 7, h1 = 11, out_features = 3):\n",
        "        super().__init__()\n",
        "        self.fc1=nn.Linear(in_features,h1)\n",
        "        self.out=nn.Linear(h1,out_features)\n",
        "\n",
        "    def forward(self,x):\n",
        "        x=F.relu(self.fc1(x))\n",
        "        x=F.relu(self.out(x))\n",
        "\n",
        "        return x\n",
        "\n",
        "#pick a manual seed for randomization\n",
        "torch.manual_seed(41)\n",
        "\n",
        "# Creat a model1\n",
        "model3=Model3()\n",
        "\n",
        "criterion = nn.CrossEntropyLoss()\n",
        "optimizer=torch.optim.Adam(model3.parameters(),lr=0.02)"
      ]
    },
    {
      "cell_type": "code",
      "execution_count": null,
      "id": "5b9b0d0f-707a-4b5a-9444-6b9d091c62d6",
      "metadata": {
        "tags": [],
        "id": "5b9b0d0f-707a-4b5a-9444-6b9d091c62d6",
        "outputId": "41f2c020-e0d5-4957-f4ef-351eccc32654",
        "colab": {
          "base_uri": "https://localhost:8080/"
        }
      },
      "outputs": [
        {
          "output_type": "execute_result",
          "data": {
            "text/plain": [
              "Model3(\n",
              "  (fc1): Linear(in_features=7, out_features=11, bias=True)\n",
              "  (out): Linear(in_features=11, out_features=3, bias=True)\n",
              ")"
            ]
          },
          "metadata": {},
          "execution_count": 22
        }
      ],
      "source": [
        "model3"
      ]
    },
    {
      "cell_type": "code",
      "execution_count": null,
      "id": "2c002eba-9e93-45fd-b1b4-98039d478033",
      "metadata": {
        "tags": [],
        "id": "2c002eba-9e93-45fd-b1b4-98039d478033",
        "outputId": "26d50921-27ed-4a58-99c9-f086f6d911a2",
        "colab": {
          "base_uri": "https://localhost:8080/"
        }
      },
      "outputs": [
        {
          "output_type": "stream",
          "name": "stdout",
          "text": [
            "Epoch: 0 and loss: 1.115018606185913\n",
            "Epoch: 10 and loss: 1.0986120700836182\n",
            "Epoch: 20 and loss: 1.0986120700836182\n",
            "Epoch: 30 and loss: 1.0986120700836182\n",
            "Epoch: 40 and loss: 1.0986120700836182\n",
            "Epoch: 50 and loss: 1.0986120700836182\n",
            "Epoch: 60 and loss: 1.0986120700836182\n",
            "Epoch: 70 and loss: 1.0986120700836182\n",
            "Epoch: 80 and loss: 1.0986120700836182\n",
            "Epoch: 90 and loss: 1.0986120700836182\n",
            "Epoch: 100 and loss: 1.0986120700836182\n",
            "Epoch: 110 and loss: 1.0986120700836182\n",
            "Epoch: 120 and loss: 1.0986120700836182\n",
            "Epoch: 130 and loss: 1.0986120700836182\n",
            "Epoch: 140 and loss: 1.0986120700836182\n",
            "Epoch: 150 and loss: 1.0986120700836182\n",
            "Epoch: 160 and loss: 1.0986120700836182\n",
            "Epoch: 170 and loss: 1.0986120700836182\n",
            "Epoch: 180 and loss: 1.0986120700836182\n",
            "Epoch: 190 and loss: 1.0986120700836182\n",
            "Epoch: 200 and loss: 1.0986120700836182\n",
            "Epoch: 210 and loss: 1.0986120700836182\n",
            "Epoch: 220 and loss: 1.0986120700836182\n",
            "Epoch: 230 and loss: 1.0986120700836182\n",
            "Epoch: 240 and loss: 1.0986120700836182\n",
            "Epoch: 250 and loss: 1.0986120700836182\n",
            "Epoch: 260 and loss: 1.0986120700836182\n",
            "Epoch: 270 and loss: 1.0986120700836182\n",
            "Epoch: 280 and loss: 1.0986120700836182\n",
            "Epoch: 290 and loss: 1.0986120700836182\n"
          ]
        }
      ],
      "source": [
        "#Train the model3\n",
        "epochs = 300\n",
        "losses = []\n",
        "for i in range(epochs):\n",
        "    #go forward and get a predictions\n",
        "    y_pred=model3.forward(X_train)#get predicted results\n",
        "\n",
        "    #Measure the loss/error, gonna be heigh at first\n",
        "    loss=criterion(y_pred,y_train)\n",
        "\n",
        "    #Keep trach the loss\n",
        "    losses.append(loss.detach().numpy())\n",
        "\n",
        "    #print every 10 epoch\n",
        "    if i%10 ==0:\n",
        "        print(f'Epoch: {i} and loss: {loss}')\n",
        "    #Do some back propagation: take the error rate of forward propagation and feed it back\n",
        "    #thru the network to find tuns and weights\n",
        "    optimizer.zero_grad()\n",
        "    loss.backward()\n",
        "    optimizer.step()"
      ]
    },
    {
      "cell_type": "code",
      "execution_count": null,
      "id": "44b59e4b-68e3-4b2f-896c-5327fb22f4c7",
      "metadata": {
        "tags": [],
        "id": "44b59e4b-68e3-4b2f-896c-5327fb22f4c7",
        "outputId": "0b80f7b7-72e0-47bc-a808-2d04691cecbd",
        "colab": {
          "base_uri": "https://localhost:8080/",
          "height": 466
        }
      },
      "outputs": [
        {
          "output_type": "execute_result",
          "data": {
            "text/plain": [
              "Text(0.5, 0, 'Epoch')"
            ]
          },
          "metadata": {},
          "execution_count": 24
        },
        {
          "output_type": "display_data",
          "data": {
            "text/plain": [
              "<Figure size 640x480 with 1 Axes>"
            ],
            "image/png": "[encoded data removed]"
          },
          "metadata": {}
        }
      ],
      "source": [
        "plt.plot(range(epochs),losses)\n",
        "plt.ylabel('loss/error')\n",
        "plt.xlabel('Epoch')"
      ]
    },
    {
      "cell_type": "code",
      "execution_count": null,
      "id": "9a931b20-5c0b-4f67-8909-1956d82c1bd2",
      "metadata": {
        "tags": [],
        "id": "9a931b20-5c0b-4f67-8909-1956d82c1bd2"
      },
      "outputs": [],
      "source": [
        "# Evaluate Model3 on test dataset (validation model1 on test set)\n",
        "with torch.no_grad(): #basically turn off back propogation\n",
        "    y_eval = model3.forward(X_test) #X_test are features from our test set, y_eval will be predictions\n",
        "    loss=criterion(y_eval,y_test)# Find the loss or error"
      ]
    },
    {
      "cell_type": "code",
      "execution_count": null,
      "id": "ab006f3f-c3a6-486d-914f-a977d19fd1e6",
      "metadata": {
        "tags": [],
        "id": "ab006f3f-c3a6-486d-914f-a977d19fd1e6",
        "outputId": "6881b20c-ad4d-4e14-add2-786a89efe4a3",
        "colab": {
          "base_uri": "https://localhost:8080/"
        }
      },
      "outputs": [
        {
          "output_type": "execute_result",
          "data": {
            "text/plain": [
              "tensor(1.0986)"
            ]
          },
          "metadata": {},
          "execution_count": 26
        }
      ],
      "source": [
        "loss"
      ]
    },
    {
      "cell_type": "code",
      "execution_count": null,
      "id": "50b348f3-2241-4a13-a2de-134085c895ef",
      "metadata": {
        "tags": [],
        "id": "50b348f3-2241-4a13-a2de-134085c895ef",
        "outputId": "91d7d7cf-8457-48fa-e1d2-9bf893e9f5ff",
        "colab": {
          "base_uri": "https://localhost:8080/"
        }
      },
      "outputs": [
        {
          "output_type": "stream",
          "name": "stdout",
          "text": [
            "1. tensor([0., 0., 0.]) \t 1 \t 0\n",
            "2. tensor([0., 0., 0.]) \t 2 \t 0\n",
            "3. tensor([0., 0., 0.]) \t 2 \t 0\n",
            "4. tensor([0., 0., 0.]) \t 1 \t 0\n",
            "5. tensor([0., 0., 0.]) \t 0 \t 0\n",
            "6. tensor([0., 0., 0.]) \t 2 \t 0\n",
            "7. tensor([0., 0., 0.]) \t 0 \t 0\n",
            "8. tensor([0., 0., 0.]) \t 0 \t 0\n",
            "9. tensor([0., 0., 0.]) \t 2 \t 0\n",
            "10. tensor([0., 0., 0.]) \t 1 \t 0\n",
            "11. tensor([0., 0., 0.]) \t 0 \t 0\n",
            "12. tensor([0., 0., 0.]) \t 1 \t 0\n",
            "13. tensor([0., 0., 0.]) \t 1 \t 0\n",
            "14. tensor([0., 0., 0.]) \t 0 \t 0\n",
            "15. tensor([0., 0., 0.]) \t 2 \t 0\n",
            "16. tensor([0., 0., 0.]) \t 2 \t 0\n",
            "17. tensor([0., 0., 0.]) \t 2 \t 0\n",
            "18. tensor([0., 0., 0.]) \t 2 \t 0\n",
            "19. tensor([0., 0., 0.]) \t 0 \t 0\n",
            "20. tensor([0., 0., 0.]) \t 2 \t 0\n",
            "21. tensor([0., 0., 0.]) \t 2 \t 0\n",
            "22. tensor([0., 0., 0.]) \t 1 \t 0\n",
            "23. tensor([0., 0., 0.]) \t 0 \t 0\n",
            "24. tensor([0., 0., 0.]) \t 0 \t 0\n",
            "25. tensor([0., 0., 0.]) \t 1 \t 0\n",
            "26. tensor([0., 0., 0.]) \t 0 \t 0\n",
            "27. tensor([0., 0., 0.]) \t 0 \t 0\n",
            "28. tensor([0., 0., 0.]) \t 2 \t 0\n",
            "29. tensor([0., 0., 0.]) \t 1 \t 0\n",
            "30. tensor([0., 0., 0.]) \t 2 \t 0\n",
            "31. tensor([0., 0., 0.]) \t 2 \t 0\n",
            "32. tensor([0., 0., 0.]) \t 1 \t 0\n",
            "33. tensor([0., 0., 0.]) \t 0 \t 0\n",
            "34. tensor([0., 0., 0.]) \t 1 \t 0\n",
            "35. tensor([0., 0., 0.]) \t 2 \t 0\n",
            "36. tensor([0., 0., 0.]) \t 1 \t 0\n",
            "37. tensor([0., 0., 0.]) \t 1 \t 0\n",
            "38. tensor([0., 0., 0.]) \t 0 \t 0\n",
            "39. tensor([0., 0., 0.]) \t 2 \t 0\n",
            "40. tensor([0., 0., 0.]) \t 2 \t 0\n",
            "41. tensor([0., 0., 0.]) \t 1 \t 0\n",
            "42. tensor([0., 0., 0.]) \t 0 \t 0\n",
            "we got 13 correct!\n",
            "the accuracy is 0.30952380952380953\n"
          ]
        }
      ],
      "source": [
        "correct=0\n",
        "with torch.no_grad():\n",
        "    for i, data in enumerate(X_test):\n",
        "        y_val=model3.forward(data)\n",
        "\n",
        "        print(f'{i+1}. {str(y_val)} \\t {y_test[i]} \\t {y_val.argmax().item()}')\n",
        "\n",
        "        if y_val.argmax().item() == y_test[i]:\n",
        "            correct+=1\n",
        "print(f'we got {correct} correct!')\n",
        "print(f'the accuracy is {correct/len(y_test)}')"
      ]
    },
    {
      "cell_type": "markdown",
      "id": "f08d4445-134b-47cb-be51-fee55ba43fde",
      "metadata": {
        "id": "f08d4445-134b-47cb-be51-fee55ba43fde"
      },
      "source": [
        "# Model4"
      ]
    },
    {
      "cell_type": "code",
      "execution_count": null,
      "id": "874aca94-2a9c-4f1d-90b2-d5fb9eb8fc6d",
      "metadata": {
        "tags": [],
        "id": "874aca94-2a9c-4f1d-90b2-d5fb9eb8fc6d"
      },
      "outputs": [],
      "source": [
        "#hidden nodes = 8, activation function = ReLu, Optimizer = SGD, learning epochs = 100, learning rate = 0.01, momentum = 0.9\n",
        "class Model4(nn.Module):\n",
        "\n",
        "    def __init__ (self,in_features = 7, h1 = 8, out_features = 3):\n",
        "        super().__init__()\n",
        "        self.fc1=nn.Linear(in_features,h1)\n",
        "        self.out=nn.Linear(h1,out_features)\n",
        "\n",
        "    def forward(self,x):\n",
        "        x=torch.tanh(self.fc1(x))\n",
        "        x=torch.tanh(self.out(x))\n",
        "\n",
        "        return x\n",
        "\n",
        "torch.manual_seed(45)\n",
        "\n",
        "model4=Model4()\n",
        "\n",
        "criterion = nn.CrossEntropyLoss()\n",
        "optimizer=torch.optim.SGD(model3.parameters(),lr=0.01,momentum=0.9)"
      ]
    },
    {
      "cell_type": "code",
      "execution_count": null,
      "id": "3540f2bb-da36-4550-b69d-b5fcc3d59fc9",
      "metadata": {
        "tags": [],
        "id": "3540f2bb-da36-4550-b69d-b5fcc3d59fc9",
        "outputId": "7946b53a-8dd0-47c9-fe5e-462dd7b8c3fa",
        "colab": {
          "base_uri": "https://localhost:8080/"
        }
      },
      "outputs": [
        {
          "output_type": "execute_result",
          "data": {
            "text/plain": [
              "Model4(\n",
              "  (fc1): Linear(in_features=7, out_features=8, bias=True)\n",
              "  (out): Linear(in_features=8, out_features=3, bias=True)\n",
              ")"
            ]
          },
          "metadata": {},
          "execution_count": 29
        }
      ],
      "source": [
        "model4"
      ]
    },
    {
      "cell_type": "code",
      "execution_count": null,
      "id": "46e8dca3-eeea-42c4-b934-e56c3a7d71ee",
      "metadata": {
        "tags": [],
        "id": "46e8dca3-eeea-42c4-b934-e56c3a7d71ee",
        "outputId": "ef172d03-ec80-453b-922a-10ad57ddad9b",
        "colab": {
          "base_uri": "https://localhost:8080/"
        }
      },
      "outputs": [
        {
          "output_type": "stream",
          "name": "stdout",
          "text": [
            "Epoch: 0 and loss: 1.1402167081832886\n",
            "Epoch: 10 and loss: 1.1402167081832886\n",
            "Epoch: 20 and loss: 1.1402167081832886\n",
            "Epoch: 30 and loss: 1.1402167081832886\n",
            "Epoch: 40 and loss: 1.1402167081832886\n",
            "Epoch: 50 and loss: 1.1402167081832886\n",
            "Epoch: 60 and loss: 1.1402167081832886\n",
            "Epoch: 70 and loss: 1.1402167081832886\n",
            "Epoch: 80 and loss: 1.1402167081832886\n",
            "Epoch: 90 and loss: 1.1402167081832886\n"
          ]
        }
      ],
      "source": [
        "#Train the model4\n",
        "epochs = 100\n",
        "losses = []\n",
        "for i in range(epochs):\n",
        "    #go forward and get a predictions\n",
        "    y_pred=model4.forward(X_train)#get predicted results\n",
        "\n",
        "    #Measure the loss/error, gonna be heigh at first\n",
        "    loss=criterion(y_pred,y_train)\n",
        "\n",
        "    #Keep trach the loss\n",
        "    losses.append(loss.detach().numpy())\n",
        "\n",
        "    #print every 10 epoch\n",
        "    if i%10 ==0:\n",
        "        print(f'Epoch: {i} and loss: {loss}')\n",
        "    #Do some back propagation: take the error rate of forward propagation and feed it back\n",
        "    #thru the network to find tuns and weights\n",
        "    optimizer.zero_grad()\n",
        "    loss.backward()\n",
        "    optimizer.step()"
      ]
    },
    {
      "cell_type": "code",
      "execution_count": null,
      "id": "973cdc55-526c-4ee6-9766-5a63146ed2b3",
      "metadata": {
        "tags": [],
        "id": "973cdc55-526c-4ee6-9766-5a63146ed2b3",
        "outputId": "6eef20f2-3a70-4cbb-b130-cfaa561a9709",
        "colab": {
          "base_uri": "https://localhost:8080/",
          "height": 466
        }
      },
      "outputs": [
        {
          "output_type": "execute_result",
          "data": {
            "text/plain": [
              "Text(0.5, 0, 'Epoch')"
            ]
          },
          "metadata": {},
          "execution_count": 31
        },
        {
          "output_type": "display_data",
          "data": {
            "text/plain": [
              "<Figure size 640x480 with 1 Axes>"
            ],
            "image/png": "[encoded data removed]"
          },
          "metadata": {}
        }
      ],
      "source": [
        "plt.plot(range(epochs),losses)\n",
        "plt.ylabel('loss/error')\n",
        "plt.xlabel('Epoch')"
      ]
    },
    {
      "cell_type": "code",
      "execution_count": null,
      "id": "9be2cae8-020d-47d9-a9b6-2c32198e9e03",
      "metadata": {
        "tags": [],
        "id": "9be2cae8-020d-47d9-a9b6-2c32198e9e03",
        "outputId": "9cefbd4c-adb4-4e6d-ca27-390cfaea2c6e",
        "colab": {
          "base_uri": "https://localhost:8080/"
        }
      },
      "outputs": [
        {
          "output_type": "execute_result",
          "data": {
            "text/plain": [
              "tensor(1.1402, grad_fn=<NllLossBackward0>)"
            ]
          },
          "metadata": {},
          "execution_count": 32
        }
      ],
      "source": [
        "loss"
      ]
    },
    {
      "cell_type": "code",
      "execution_count": null,
      "id": "010a59a7-4108-4bec-a73b-6818e6cfd28b",
      "metadata": {
        "tags": [],
        "id": "010a59a7-4108-4bec-a73b-6818e6cfd28b",
        "outputId": "9f04e7b8-6731-4e28-cad8-f9a418982627",
        "colab": {
          "base_uri": "https://localhost:8080/"
        }
      },
      "outputs": [
        {
          "output_type": "stream",
          "name": "stdout",
          "text": [
            "1. tensor([-0.0478, -0.6065, -0.9136]) \t 1 \t 0\n",
            "2. tensor([-0.1449, -0.5812, -0.8910]) \t 2 \t 0\n",
            "3. tensor([-0.1478, -0.5801, -0.8901]) \t 2 \t 0\n",
            "4. tensor([-0.0011, -0.6148, -0.9194]) \t 1 \t 0\n",
            "5. tensor([-0.0077, -0.6131, -0.9183]) \t 0 \t 0\n",
            "6. tensor([-0.1236, -0.5868, -0.8965]) \t 2 \t 0\n",
            "7. tensor([-0.0788, -0.5984, -0.9069]) \t 0 \t 0\n",
            "8. tensor([-0.0391, -0.6079, -0.9148]) \t 0 \t 0\n",
            "9. tensor([-0.1457, -0.5806, -0.8907]) \t 2 \t 0\n",
            "10. tensor([-0.0411, -0.6087, -0.9156]) \t 1 \t 0\n",
            "11. tensor([-0.0211, -0.6115, -0.9174]) \t 0 \t 0\n",
            "12. tensor([-0.0219, -0.6127, -0.9184]) \t 1 \t 0\n",
            "13. tensor([-0.0536, -0.6054, -0.9127]) \t 1 \t 0\n",
            "14. tensor([-0.0267, -0.6110, -0.9171]) \t 0 \t 0\n",
            "15. tensor([-0.1336, -0.5835, -0.8936]) \t 2 \t 0\n",
            "16. tensor([-0.0599, -0.6027, -0.9106]) \t 2 \t 0\n",
            "17. tensor([-0.0851, -0.5963, -0.9053]) \t 2 \t 0\n",
            "18. tensor([-0.1882, -0.5690, -0.8786]) \t 2 \t 0\n",
            "19. tensor([-0.0501, -0.6056, -0.9130]) \t 0 \t 0\n",
            "20. tensor([-0.1436, -0.5813, -0.8913]) \t 2 \t 0\n",
            "21. tensor([-0.0271, -0.6095, -0.9160]) \t 2 \t 0\n",
            "22. tensor([-0.0113, -0.6140, -0.9192]) \t 1 \t 0\n",
            "23. tensor([-0.0757, -0.5997, -0.9080]) \t 0 \t 0\n",
            "24. tensor([-0.0985, -0.5936, -0.9027]) \t 0 \t 0\n",
            "25. tensor([ 0.0081, -0.6152, -0.9193]) \t 1 \t 0\n",
            "26. tensor([-0.0081, -0.6139, -0.9191]) \t 0 \t 0\n",
            "27. tensor([-0.0386, -0.6070, -0.9142]) \t 0 \t 0\n",
            "28. tensor([-0.1979, -0.5655, -0.8752]) \t 2 \t 0\n",
            "29. tensor([-0.0037, -0.6143, -0.9191]) \t 1 \t 0\n",
            "30. tensor([-0.0798, -0.5979, -0.9066]) \t 2 \t 0\n",
            "31. tensor([-0.1786, -0.5712, -0.8811]) \t 2 \t 0\n",
            "32. tensor([ 0.0027, -0.6149, -0.9194]) \t 1 \t 0\n",
            "33. tensor([-0.0753, -0.5981, -0.9069]) \t 0 \t 0\n",
            "34. tensor([-0.0243, -0.6113, -0.9174]) \t 1 \t 0\n",
            "35. tensor([-0.0632, -0.6021, -0.9101]) \t 2 \t 0\n",
            "36. tensor([-0.0148, -0.6135, -0.9189]) \t 1 \t 0\n",
            "37. tensor([-0.0265, -0.6114, -0.9175]) \t 1 \t 0\n",
            "38. tensor([-0.0108, -0.6130, -0.9184]) \t 0 \t 0\n",
            "39. tensor([-0.1142, -0.5888, -0.8986]) \t 2 \t 0\n",
            "40. tensor([-0.1610, -0.5765, -0.8865]) \t 2 \t 0\n",
            "41. tensor([-0.0451, -0.6071, -0.9140]) \t 1 \t 0\n",
            "42. tensor([ 0.0020, -0.6144, -0.9190]) \t 0 \t 0\n",
            "we got 13 correct!\n",
            "the accuracy is 0.30952380952380953\n"
          ]
        }
      ],
      "source": [
        "correct=0\n",
        "with torch.no_grad():\n",
        "    for i, data in enumerate(X_test):\n",
        "        y_val=model4.forward(data)\n",
        "\n",
        "        print(f'{i+1}. {str(y_val)} \\t {y_test[i]} \\t {y_val.argmax().item()}')\n",
        "\n",
        "        if y_val.argmax().item() == y_test[i]:\n",
        "            correct+=1\n",
        "print(f'we got {correct} correct!')\n",
        "print(f'the accuracy is {correct/len(y_test)}')"
      ]
    },
    {
      "cell_type": "markdown",
      "id": "683cd8a7-e821-4cc7-b8f7-cd91d84d4b25",
      "metadata": {
        "id": "683cd8a7-e821-4cc7-b8f7-cd91d84d4b25"
      },
      "source": [
        "# Model5"
      ]
    },
    {
      "cell_type": "code",
      "execution_count": null,
      "id": "7595151f-151e-46b9-83ad-0790be9edeed",
      "metadata": {
        "tags": [],
        "id": "7595151f-151e-46b9-83ad-0790be9edeed"
      },
      "outputs": [],
      "source": [
        "#hidden nodes = 11, activation function = Tanh, Optimizer = SGD, learning epochs = 300, learning rate = 0.01, momentum = 0.9\n",
        "class Model5(nn.Module):\n",
        "\n",
        "    def __init__(self, in_features = 7, h1 = 11, out_features = 3):\n",
        "        super().__init__()\n",
        "        self.fc1 = nn.Linear(in_features, h1)\n",
        "        self.out = nn.Linear(h1, out_features)\n",
        "\n",
        "    def forward(self, x):\n",
        "        x = torch.tanh(self.fc1(x))  # Use tanh activation\n",
        "        x = torch.tanh(self.out(x))  # Use tanh activation\n",
        "\n",
        "        return x\n",
        "\n",
        "torch.manual_seed(41)\n",
        "model5=Model5()\n",
        "criterion = nn.CrossEntropyLoss()\n",
        "optimizer=torch.optim.SGD(model5.parameters(),lr=0.01)"
      ]
    },
    {
      "cell_type": "code",
      "execution_count": null,
      "id": "2fa7989d-b67a-4025-ac7d-c8915749f2d0",
      "metadata": {
        "tags": [],
        "id": "2fa7989d-b67a-4025-ac7d-c8915749f2d0",
        "outputId": "83d1604c-dcaf-4812-8a0a-2198945497e6",
        "colab": {
          "base_uri": "https://localhost:8080/"
        }
      },
      "outputs": [
        {
          "output_type": "execute_result",
          "data": {
            "text/plain": [
              "Model5(\n",
              "  (fc1): Linear(in_features=7, out_features=11, bias=True)\n",
              "  (out): Linear(in_features=11, out_features=3, bias=True)\n",
              ")"
            ]
          },
          "metadata": {},
          "execution_count": 35
        }
      ],
      "source": [
        "model5"
      ]
    },
    {
      "cell_type": "code",
      "execution_count": null,
      "id": "743488fd-bd8d-4693-80de-fafac5e2c915",
      "metadata": {
        "tags": [],
        "id": "743488fd-bd8d-4693-80de-fafac5e2c915",
        "outputId": "e288e53f-2fa6-4b25-f1fd-2c82b735850e",
        "colab": {
          "base_uri": "https://localhost:8080/"
        }
      },
      "outputs": [
        {
          "output_type": "stream",
          "name": "stdout",
          "text": [
            "Epoch: 0 and loss: 1.152509093284607\n",
            "Epoch: 10 and loss: 1.123407244682312\n",
            "Epoch: 20 and loss: 1.1077983379364014\n",
            "Epoch: 30 and loss: 1.0995292663574219\n",
            "Epoch: 40 and loss: 1.09438955783844\n",
            "Epoch: 50 and loss: 1.0903668403625488\n",
            "Epoch: 60 and loss: 1.0868369340896606\n",
            "Epoch: 70 and loss: 1.0836045742034912\n",
            "Epoch: 80 and loss: 1.080456256866455\n",
            "Epoch: 90 and loss: 1.0772016048431396\n",
            "Epoch: 100 and loss: 1.0736868381500244\n",
            "Epoch: 110 and loss: 1.0697412490844727\n",
            "Epoch: 120 and loss: 1.0650432109832764\n",
            "Epoch: 130 and loss: 1.0585294961929321\n",
            "Epoch: 140 and loss: 1.0435434579849243\n",
            "Epoch: 150 and loss: 1.0072779655456543\n",
            "Epoch: 160 and loss: 0.9957101941108704\n",
            "Epoch: 170 and loss: 0.9858642816543579\n",
            "Epoch: 180 and loss: 0.9764971733093262\n",
            "Epoch: 190 and loss: 0.9674360156059265\n",
            "Epoch: 200 and loss: 0.9585952758789062\n",
            "Epoch: 210 and loss: 0.9499384760856628\n",
            "Epoch: 220 and loss: 0.9414558410644531\n",
            "Epoch: 230 and loss: 0.933151125907898\n",
            "Epoch: 240 and loss: 0.9250349998474121\n",
            "Epoch: 250 and loss: 0.9171199798583984\n",
            "Epoch: 260 and loss: 0.9094167351722717\n",
            "Epoch: 270 and loss: 0.9019352793693542\n",
            "Epoch: 280 and loss: 0.8946824669837952\n",
            "Epoch: 290 and loss: 0.8876625299453735\n"
          ]
        }
      ],
      "source": [
        "#Train the model5\n",
        "epochs = 300\n",
        "losses = []\n",
        "for i in range(epochs):\n",
        "    #go forward and get a predictions\n",
        "    y_pred=model5.forward(X_train)#get predicted results\n",
        "\n",
        "    #Measure the loss/error, gonna be heigh at first\n",
        "    loss=criterion(y_pred,y_train)\n",
        "\n",
        "    #Keep trach the loss\n",
        "    losses.append(loss.detach().numpy())\n",
        "\n",
        "    #print every 10 epoch\n",
        "    if i%10 ==0:\n",
        "        print(f'Epoch: {i} and loss: {loss}')\n",
        "    #Do some back propagation: take the error rate of forward propagation and feed it back\n",
        "    #thru the network to find tuns and weights\n",
        "    optimizer.zero_grad()\n",
        "    loss.backward()\n",
        "    optimizer.step()"
      ]
    },
    {
      "cell_type": "code",
      "execution_count": null,
      "id": "5c376aa7-f149-4136-8b2f-cb2ca0625997",
      "metadata": {
        "tags": [],
        "id": "5c376aa7-f149-4136-8b2f-cb2ca0625997",
        "outputId": "0bccaef7-f32c-4be1-8d77-9085a24d5055",
        "colab": {
          "base_uri": "https://localhost:8080/",
          "height": 466
        }
      },
      "outputs": [
        {
          "output_type": "execute_result",
          "data": {
            "text/plain": [
              "Text(0.5, 0, 'Epoch')"
            ]
          },
          "metadata": {},
          "execution_count": 37
        },
        {
          "output_type": "display_data",
          "data": {
            "text/plain": [
              "<Figure size 640x480 with 1 Axes>"
            ],
            "image/png": "[encoded data removed]"
          },
          "metadata": {}
        }
      ],
      "source": [
        "plt.plot(range(epochs),losses)\n",
        "plt.ylabel('loss/error')\n",
        "plt.xlabel('Epoch')"
      ]
    },
    {
      "cell_type": "code",
      "execution_count": null,
      "id": "62feec4f-818d-4deb-83be-288e32fcc099",
      "metadata": {
        "tags": [],
        "id": "62feec4f-818d-4deb-83be-288e32fcc099"
      },
      "outputs": [],
      "source": [
        "# Evaluate Model1 on test dataset (validation model1 on test set)\n",
        "with torch.no_grad(): #basically turn off back propogation\n",
        "    y_eval = model5.forward(X_test) #X_test are features from our test set, y_eval will be predictions\n",
        "    loss=criterion(y_eval,y_test)# Find the loss or error"
      ]
    },
    {
      "cell_type": "code",
      "execution_count": null,
      "id": "4c046d24-f9e5-4a54-87f2-96a92a1e92f6",
      "metadata": {
        "tags": [],
        "id": "4c046d24-f9e5-4a54-87f2-96a92a1e92f6",
        "outputId": "1a15fa3f-1aee-4863-a70f-3f1a2677276a",
        "colab": {
          "base_uri": "https://localhost:8080/"
        }
      },
      "outputs": [
        {
          "output_type": "execute_result",
          "data": {
            "text/plain": [
              "tensor(0.8998)"
            ]
          },
          "metadata": {},
          "execution_count": 39
        }
      ],
      "source": [
        "loss"
      ]
    },
    {
      "cell_type": "code",
      "execution_count": null,
      "id": "8cb7a11d-835b-4582-9b22-6c1e7ef52e00",
      "metadata": {
        "tags": [],
        "id": "8cb7a11d-835b-4582-9b22-6c1e7ef52e00",
        "outputId": "78bedd48-c7bb-4445-83db-6c739bb80c2c",
        "colab": {
          "base_uri": "https://localhost:8080/"
        }
      },
      "outputs": [
        {
          "output_type": "stream",
          "name": "stdout",
          "text": [
            "1. tensor([ 0.1269,  0.1083, -0.3365]) \t 1 \t 0\n",
            "2. tensor([-0.2985, -0.2184,  0.3420]) \t 2 \t 2\n",
            "3. tensor([-0.3583, -0.2659,  0.4373]) \t 2 \t 2\n",
            "4. tensor([ 0.3299,  0.2647, -0.6137]) \t 1 \t 0\n",
            "5. tensor([ 0.3053,  0.2463, -0.5832]) \t 0 \t 0\n",
            "6. tensor([-0.2541, -0.1830,  0.2726]) \t 2 \t 2\n",
            "7. tensor([-0.0134,  0.0023, -0.1280]) \t 0 \t 1\n",
            "8. tensor([ 0.1657,  0.1384, -0.3943]) \t 0 \t 0\n",
            "9. tensor([-0.3822, -0.2854,  0.4786]) \t 2 \t 2\n",
            "10. tensor([ 0.1235,  0.1058, -0.3242]) \t 1 \t 0\n",
            "11. tensor([ 0.2791,  0.2258, -0.5515]) \t 0 \t 0\n",
            "12. tensor([ 0.2804,  0.2261, -0.5503]) \t 1 \t 0\n",
            "13. tensor([ 0.1057,  0.0920, -0.3063]) \t 1 \t 0\n",
            "14. tensor([ 0.2454,  0.1993, -0.5048]) \t 0 \t 0\n",
            "15. tensor([-0.3337, -0.2455,  0.4023]) \t 2 \t 2\n",
            "16. tensor([ 0.0635,  0.0609, -0.2441]) \t 2 \t 0\n",
            "17. tensor([-0.1593, -0.1089,  0.1277]) \t 2 \t 2\n",
            "18. tensor([-0.4225, -0.3190,  0.5349]) \t 2 \t 2\n",
            "19. tensor([ 0.1168,  0.1010, -0.3251]) \t 0 \t 0\n",
            "20. tensor([-0.3456, -0.2559,  0.4212]) \t 2 \t 2\n",
            "21. tensor([ 0.1734,  0.1459, -0.4021]) \t 2 \t 0\n",
            "22. tensor([ 0.3053,  0.2458, -0.5814]) \t 1 \t 0\n",
            "23. tensor([-0.0063,  0.0070, -0.1359]) \t 0 \t 1\n",
            "24. tensor([-0.1478, -0.1007,  0.0977]) \t 0 \t 2\n",
            "25. tensor([ 0.3344,  0.2685, -0.6187]) \t 1 \t 0\n",
            "26. tensor([ 0.2984,  0.2407, -0.5714]) \t 0 \t 0\n",
            "27. tensor([ 0.1871,  0.1575, -0.4337]) \t 0 \t 0\n",
            "28. tensor([-0.4711, -0.3591,  0.6055]) \t 2 \t 2\n",
            "29. tensor([ 0.3197,  0.2570, -0.6004]) \t 1 \t 0\n",
            "30. tensor([-0.1559, -0.1062,  0.1225]) \t 2 \t 2\n",
            "31. tensor([-0.3947, -0.2954,  0.4915]) \t 2 \t 2\n",
            "32. tensor([ 0.3313,  0.2660, -0.6152]) \t 1 \t 0\n",
            "33. tensor([-0.0233, -0.0034, -0.1111]) \t 0 \t 1\n",
            "34. tensor([ 0.2260,  0.1846, -0.4756]) \t 1 \t 0\n",
            "35. tensor([-0.0358, -0.0145, -0.0782]) \t 2 \t 1\n",
            "36. tensor([ 0.2953,  0.2379, -0.5687]) \t 1 \t 0\n",
            "37. tensor([ 0.2327,  0.1895, -0.4845]) \t 1 \t 0\n",
            "38. tensor([ 0.2783,  0.2256, -0.5463]) \t 0 \t 0\n",
            "39. tensor([-0.2817, -0.2041,  0.3213]) \t 2 \t 2\n",
            "40. tensor([-0.3720, -0.2771,  0.4582]) \t 2 \t 2\n",
            "41. tensor([ 0.1984,  0.1628, -0.4458]) \t 1 \t 0\n",
            "42. tensor([ 0.3270,  0.2630, -0.6102]) \t 0 \t 0\n",
            "we got 22 correct!\n",
            "the accuracy is 0.5238095238095238\n"
          ]
        }
      ],
      "source": [
        "correct=0\n",
        "with torch.no_grad():\n",
        "    for i, data in enumerate(X_test):\n",
        "        y_val=model5.forward(data)\n",
        "\n",
        "        print(f'{i+1}. {str(y_val)} \\t {y_test[i]} \\t {y_val.argmax().item()}')\n",
        "\n",
        "        if y_val.argmax().item() == y_test[i]:\n",
        "            correct+=1\n",
        "print(f'we got {correct} correct!')\n",
        "print(f'the accuracy is {correct/len(y_test)}')"
      ]
    }
  ],
  "metadata": {
    "kernelspec": {
      "display_name": "Python 3 (ipykernel)",
      "language": "python",
      "name": "python3"
    },
    "language_info": {
      "codemirror_mode": {
        "name": "ipython",
        "version": 3
      },
      "file_extension": ".py",
      "mimetype": "text/x-python",
      "name": "python",
      "nbconvert_exporter": "python",
      "pygments_lexer": "ipython3",
      "version": "3.11.4"
    },
    "colab": {
      "provenance": [],
      "include_colab_link": true
    }
  },
  "nbformat": 4,
  "nbformat_minor": 5
}