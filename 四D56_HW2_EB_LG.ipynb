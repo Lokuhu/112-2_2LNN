{
  "cells": [
    {
      "cell_type": "markdown",
      "metadata": {
        "id": "view-in-github",
        "colab_type": "text"
      },
      "source": [
        "<a href=\"https://colab.research.google.com/github/Lokuhu/112-2_2LNN/blob/main/%E5%9B%9BD56_HW2_EB_LG.ipynb\" target=\"_parent\"><img src=\"https://colab.research.google.com/assets/colab-badge.svg\" alt=\"Open In Colab\"/></a>"
      ]
    },
    {
      "cell_type": "markdown",
      "source": [
        "Weight-tuning by Epoch Bound & Learning Goal"
      ],
      "metadata": {
        "id": "A-EBjMWmTOZZ"
      },
      "id": "A-EBjMWmTOZZ"
    },
    {
      "cell_type": "markdown",
      "source": [
        "● **Identify the application of HW#1: classification**"
      ],
      "metadata": {
        "id": "Z095uYR-Egnu"
      },
      "id": "Z095uYR-Egnu"
    },
    {
      "cell_type": "markdown",
      "source": [
        "● **x: real numbers**"
      ],
      "metadata": {
        "id": "mOqHVwdKEm-Y"
      },
      "id": "mOqHVwdKEm-Y"
    },
    {
      "cell_type": "markdown",
      "source": [
        "● **y: 3 values, real numbers**"
      ],
      "metadata": {
        "id": "rRgkPek6Erdp"
      },
      "id": "rRgkPek6Erdp"
    },
    {
      "cell_type": "code",
      "source": [
        "# Identify your best code (of the weight tuning_EB) for HW #1. Best means the best hyperparameter setting in testing performance.\n",
        "# Rewrite the best weight tuning_EB code for HW #1 into the code of the weight tuning_LG.\n",
        "# Rewrite the best weight tuning_EB code for HW #1 into the code of the weight tuning_EB_LG.\n",
        "\n",
        "# Once you have the code, apply the code to learn your dataset for HW #1. The training and test dataset is 80%/20%.\n",
        "# The performance comparison benchmark is your best weight tuning_EB code."
      ],
      "metadata": {
        "id": "kYAEl1HI1-DM"
      },
      "id": "kYAEl1HI1-DM",
      "execution_count": null,
      "outputs": []
    },
    {
      "cell_type": "code",
      "execution_count": null,
      "id": "e2c7f2a9-22ac-4540-a7fe-13fea3afd53c",
      "metadata": {
        "tags": [],
        "id": "e2c7f2a9-22ac-4540-a7fe-13fea3afd53c"
      },
      "outputs": [],
      "source": [
        "import torch\n",
        "import torch.nn as nn\n",
        "import torch.nn.functional as F\n",
        "import pandas as pd\n",
        "import matplotlib.pyplot as plt\n",
        "%matplotlib inline\n",
        "from sklearn.model_selection import train_test_split"
      ]
    },
    {
      "cell_type": "code",
      "source": [
        "# 試算表>檔案>共用>發布到網路 即可於colab中讀取\n",
        "url = 'https://docs.google.com/spreadsheets/d/e/2PACX-1vQhbAejyGUXlZltX2nsbC4sTw890L6081piAP8ZDJVbufqZ9xm-S5P7gIrXnpgszm-U9SmEkBxJc5uF/pub?gid=1265524659&single=true&output=csv'\n",
        "seed = pd.read_csv(url)"
      ],
      "metadata": {
        "id": "uYFXW8-zDbZu"
      },
      "id": "uYFXW8-zDbZu",
      "execution_count": null,
      "outputs": []
    },
    {
      "cell_type": "code",
      "source": [
        "seed['Type'] = seed['Type'].replace(1, 0.0)\n",
        "seed['Type'] = seed['Type'].replace(2, 1.0)\n",
        "seed['Type'] = seed['Type'].replace(3, 2.0)\n",
        "seed"
      ],
      "metadata": {
        "colab": {
          "base_uri": "https://localhost:8080/",
          "height": 443
        },
        "id": "CfY_P0uYHI0q",
        "outputId": "85fede6b-2c16-4658-aac2-a7d32a6aaf3c"
      },
      "id": "CfY_P0uYHI0q",
      "execution_count": null,
      "outputs": [
        {
          "output_type": "execute_result",
          "data": {
            "text/plain": [
              "      Area  Perimeter  Compactness  Kernel.Length  Kernel.Width  \\\n",
              "0    15.26      14.84       0.8710          5.763         3.312   \n",
              "1    14.88      14.57       0.8811          5.554         3.333   \n",
              "2    14.29      14.09       0.9050          5.291         3.337   \n",
              "3    13.84      13.94       0.8955          5.324         3.379   \n",
              "4    16.14      14.99       0.9034          5.658         3.562   \n",
              "..     ...        ...          ...            ...           ...   \n",
              "205  12.19      13.20       0.8783          5.137         2.981   \n",
              "206  11.23      12.88       0.8511          5.140         2.795   \n",
              "207  13.20      13.66       0.8883          5.236         3.232   \n",
              "208  11.84      13.21       0.8521          5.175         2.836   \n",
              "209  12.30      13.34       0.8684          5.243         2.974   \n",
              "\n",
              "     Asymmetry.Coeff  Kernel.Groove  Type  \n",
              "0              2.221          5.220     0  \n",
              "1              1.018          4.956     0  \n",
              "2              2.699          4.825     0  \n",
              "3              2.259          4.805     0  \n",
              "4              1.355          5.175     0  \n",
              "..               ...            ...   ...  \n",
              "205            3.631          4.870     2  \n",
              "206            4.325          5.003     2  \n",
              "207            8.315          5.056     2  \n",
              "208            3.598          5.044     2  \n",
              "209            5.637          5.063     2  \n",
              "\n",
              "[210 rows x 8 columns]"
            ],
            "text/html": [
              "\n",
              "  <div id=\"df-8cfea617-2f6c-4569-b1bb-c928b734abf8\" class=\"colab-df-container\">\n",
              "    <div>\n",
              "<style scoped>\n",
              "    .dataframe tbody tr th:only-of-type {\n",
              "        vertical-align: middle;\n",
              "    }\n",
              "\n",
              "    .dataframe tbody tr th {\n",
              "        vertical-align: top;\n",
              "    }\n",
              "\n",
              "    .dataframe thead th {\n",
              "        text-align: right;\n",
              "    }\n",
              "</style>\n",
              "<table border=\"1\" class=\"dataframe\">\n",
              "  <thead>\n",
              "    <tr style=\"text-align: right;\">\n",
              "      <th></th>\n",
              "      <th>Area</th>\n",
              "      <th>Perimeter</th>\n",
              "      <th>Compactness</th>\n",
              "      <th>Kernel.Length</th>\n",
              "      <th>Kernel.Width</th>\n",
              "      <th>Asymmetry.Coeff</th>\n",
              "      <th>Kernel.Groove</th>\n",
              "      <th>Type</th>\n",
              "    </tr>\n",
              "  </thead>\n",
              "  <tbody>\n",
              "    <tr>\n",
              "      <th>0</th>\n",
              "      <td>15.26</td>\n",
              "      <td>14.84</td>\n",
              "      <td>0.8710</td>\n",
              "      <td>5.763</td>\n",
              "      <td>3.312</td>\n",
              "      <td>2.221</td>\n",
              "      <td>5.220</td>\n",
              "      <td>0</td>\n",
              "    </tr>\n",
              "    <tr>\n",
              "      <th>1</th>\n",
              "      <td>14.88</td>\n",
              "      <td>14.57</td>\n",
              "      <td>0.8811</td>\n",
              "      <td>5.554</td>\n",
              "      <td>3.333</td>\n",
              "      <td>1.018</td>\n",
              "      <td>4.956</td>\n",
              "      <td>0</td>\n",
              "    </tr>\n",
              "    <tr>\n",
              "      <th>2</th>\n",
              "      <td>14.29</td>\n",
              "      <td>14.09</td>\n",
              "      <td>0.9050</td>\n",
              "      <td>5.291</td>\n",
              "      <td>3.337</td>\n",
              "      <td>2.699</td>\n",
              "      <td>4.825</td>\n",
              "      <td>0</td>\n",
              "    </tr>\n",
              "    <tr>\n",
              "      <th>3</th>\n",
              "      <td>13.84</td>\n",
              "      <td>13.94</td>\n",
              "      <td>0.8955</td>\n",
              "      <td>5.324</td>\n",
              "      <td>3.379</td>\n",
              "      <td>2.259</td>\n",
              "      <td>4.805</td>\n",
              "      <td>0</td>\n",
              "    </tr>\n",
              "    <tr>\n",
              "      <th>4</th>\n",
              "      <td>16.14</td>\n",
              "      <td>14.99</td>\n",
              "      <td>0.9034</td>\n",
              "      <td>5.658</td>\n",
              "      <td>3.562</td>\n",
              "      <td>1.355</td>\n",
              "      <td>5.175</td>\n",
              "      <td>0</td>\n",
              "    </tr>\n",
              "    <tr>\n",
              "      <th>...</th>\n",
              "      <td>...</td>\n",
              "      <td>...</td>\n",
              "      <td>...</td>\n",
              "      <td>...</td>\n",
              "      <td>...</td>\n",
              "      <td>...</td>\n",
              "      <td>...</td>\n",
              "      <td>...</td>\n",
              "    </tr>\n",
              "    <tr>\n",
              "      <th>205</th>\n",
              "      <td>12.19</td>\n",
              "      <td>13.20</td>\n",
              "      <td>0.8783</td>\n",
              "      <td>5.137</td>\n",
              "      <td>2.981</td>\n",
              "      <td>3.631</td>\n",
              "      <td>4.870</td>\n",
              "      <td>2</td>\n",
              "    </tr>\n",
              "    <tr>\n",
              "      <th>206</th>\n",
              "      <td>11.23</td>\n",
              "      <td>12.88</td>\n",
              "      <td>0.8511</td>\n",
              "      <td>5.140</td>\n",
              "      <td>2.795</td>\n",
              "      <td>4.325</td>\n",
              "      <td>5.003</td>\n",
              "      <td>2</td>\n",
              "    </tr>\n",
              "    <tr>\n",
              "      <th>207</th>\n",
              "      <td>13.20</td>\n",
              "      <td>13.66</td>\n",
              "      <td>0.8883</td>\n",
              "      <td>5.236</td>\n",
              "      <td>3.232</td>\n",
              "      <td>8.315</td>\n",
              "      <td>5.056</td>\n",
              "      <td>2</td>\n",
              "    </tr>\n",
              "    <tr>\n",
              "      <th>208</th>\n",
              "      <td>11.84</td>\n",
              "      <td>13.21</td>\n",
              "      <td>0.8521</td>\n",
              "      <td>5.175</td>\n",
              "      <td>2.836</td>\n",
              "      <td>3.598</td>\n",
              "      <td>5.044</td>\n",
              "      <td>2</td>\n",
              "    </tr>\n",
              "    <tr>\n",
              "      <th>209</th>\n",
              "      <td>12.30</td>\n",
              "      <td>13.34</td>\n",
              "      <td>0.8684</td>\n",
              "      <td>5.243</td>\n",
              "      <td>2.974</td>\n",
              "      <td>5.637</td>\n",
              "      <td>5.063</td>\n",
              "      <td>2</td>\n",
              "    </tr>\n",
              "  </tbody>\n",
              "</table>\n",
              "<p>210 rows × 8 columns</p>\n",
              "</div>\n",
              "    <div class=\"colab-df-buttons\">\n",
              "\n",
              "  <div class=\"colab-df-container\">\n",
              "    <button class=\"colab-df-convert\" onclick=\"convertToInteractive('df-8cfea617-2f6c-4569-b1bb-c928b734abf8')\"\n",
              "            title=\"Convert this dataframe to an interactive table.\"\n",
              "            style=\"display:none;\">\n",
              "\n",
              "  <svg xmlns=\"http://www.w3.org/2000/svg\" height=\"24px\" viewBox=\"0 -960 960 960\">\n",
              "    <path d=\"M120-120v-720h720v720H120Zm60-500h600v-160H180v160Zm220 220h160v-160H400v160Zm0 220h160v-160H400v160ZM180-400h160v-160H180v160Zm440 0h160v-160H620v160ZM180-180h160v-160H180v160Zm440 0h160v-160H620v160Z\"/>\n",
              "  </svg>\n",
              "    </button>\n",
              "\n",
              "  <style>\n",
              "    .colab-df-container {\n",
              "      display:flex;\n",
              "      gap: 12px;\n",
              "    }\n",
              "\n",
              "    .colab-df-convert {\n",
              "      background-color: #E8F0FE;\n",
              "      border: none;\n",
              "      border-radius: 50%;\n",
              "      cursor: pointer;\n",
              "      display: none;\n",
              "      fill: #1967D2;\n",
              "      height: 32px;\n",
              "      padding: 0 0 0 0;\n",
              "      width: 32px;\n",
              "    }\n",
              "\n",
              "    .colab-df-convert:hover {\n",
              "      background-color: #E2EBFA;\n",
              "      box-shadow: 0px 1px 2px rgba(60, 64, 67, 0.3), 0px 1px 3px 1px rgba(60, 64, 67, 0.15);\n",
              "      fill: #174EA6;\n",
              "    }\n",
              "\n",
              "    .colab-df-buttons div {\n",
              "      margin-bottom: 4px;\n",
              "    }\n",
              "\n",
              "    [theme=dark] .colab-df-convert {\n",
              "      background-color: #3B4455;\n",
              "      fill: #D2E3FC;\n",
              "    }\n",
              "\n",
              "    [theme=dark] .colab-df-convert:hover {\n",
              "      background-color: #434B5C;\n",
              "      box-shadow: 0px 1px 3px 1px rgba(0, 0, 0, 0.15);\n",
              "      filter: drop-shadow(0px 1px 2px rgba(0, 0, 0, 0.3));\n",
              "      fill: #FFFFFF;\n",
              "    }\n",
              "  </style>\n",
              "\n",
              "    <script>\n",
              "      const buttonEl =\n",
              "        document.querySelector('#df-8cfea617-2f6c-4569-b1bb-c928b734abf8 button.colab-df-convert');\n",
              "      buttonEl.style.display =\n",
              "        google.colab.kernel.accessAllowed ? 'block' : 'none';\n",
              "\n",
              "      async function convertToInteractive(key) {\n",
              "        const element = document.querySelector('#df-8cfea617-2f6c-4569-b1bb-c928b734abf8');\n",
              "        const dataTable =\n",
              "          await google.colab.kernel.invokeFunction('convertToInteractive',\n",
              "                                                    [key], {});\n",
              "        if (!dataTable) return;\n",
              "\n",
              "        const docLinkHtml = 'Like what you see? Visit the ' +\n",
              "          '<a target=\"_blank\" href=https://colab.research.google.com/notebooks/data_table.ipynb>data table notebook</a>'\n",
              "          + ' to learn more about interactive tables.';\n",
              "        element.innerHTML = '';\n",
              "        dataTable['output_type'] = 'display_data';\n",
              "        await google.colab.output.renderOutput(dataTable, element);\n",
              "        const docLink = document.createElement('div');\n",
              "        docLink.innerHTML = docLinkHtml;\n",
              "        element.appendChild(docLink);\n",
              "      }\n",
              "    </script>\n",
              "  </div>\n",
              "\n",
              "\n",
              "<div id=\"df-89a801db-d4d6-4f0e-92b8-f7a4abdf874c\">\n",
              "  <button class=\"colab-df-quickchart\" onclick=\"quickchart('df-89a801db-d4d6-4f0e-92b8-f7a4abdf874c')\"\n",
              "            title=\"Suggest charts\"\n",
              "            style=\"display:none;\">\n",
              "\n",
              "<svg xmlns=\"http://www.w3.org/2000/svg\" height=\"24px\"viewBox=\"0 0 24 24\"\n",
              "     width=\"24px\">\n",
              "    <g>\n",
              "        <path d=\"M19 3H5c-1.1 0-2 .9-2 2v14c0 1.1.9 2 2 2h14c1.1 0 2-.9 2-2V5c0-1.1-.9-2-2-2zM9 17H7v-7h2v7zm4 0h-2V7h2v10zm4 0h-2v-4h2v4z\"/>\n",
              "    </g>\n",
              "</svg>\n",
              "  </button>\n",
              "\n",
              "<style>\n",
              "  .colab-df-quickchart {\n",
              "      --bg-color: #E8F0FE;\n",
              "      --fill-color: #1967D2;\n",
              "      --hover-bg-color: #E2EBFA;\n",
              "      --hover-fill-color: #174EA6;\n",
              "      --disabled-fill-color: #AAA;\n",
              "      --disabled-bg-color: #DDD;\n",
              "  }\n",
              "\n",
              "  [theme=dark] .colab-df-quickchart {\n",
              "      --bg-color: #3B4455;\n",
              "      --fill-color: #D2E3FC;\n",
              "      --hover-bg-color: #434B5C;\n",
              "      --hover-fill-color: #FFFFFF;\n",
              "      --disabled-bg-color: #3B4455;\n",
              "      --disabled-fill-color: #666;\n",
              "  }\n",
              "\n",
              "  .colab-df-quickchart {\n",
              "    background-color: var(--bg-color);\n",
              "    border: none;\n",
              "    border-radius: 50%;\n",
              "    cursor: pointer;\n",
              "    display: none;\n",
              "    fill: var(--fill-color);\n",
              "    height: 32px;\n",
              "    padding: 0;\n",
              "    width: 32px;\n",
              "  }\n",
              "\n",
              "  .colab-df-quickchart:hover {\n",
              "    background-color: var(--hover-bg-color);\n",
              "    box-shadow: 0 1px 2px rgba(60, 64, 67, 0.3), 0 1px 3px 1px rgba(60, 64, 67, 0.15);\n",
              "    fill: var(--button-hover-fill-color);\n",
              "  }\n",
              "\n",
              "  .colab-df-quickchart-complete:disabled,\n",
              "  .colab-df-quickchart-complete:disabled:hover {\n",
              "    background-color: var(--disabled-bg-color);\n",
              "    fill: var(--disabled-fill-color);\n",
              "    box-shadow: none;\n",
              "  }\n",
              "\n",
              "  .colab-df-spinner {\n",
              "    border: 2px solid var(--fill-color);\n",
              "    border-color: transparent;\n",
              "    border-bottom-color: var(--fill-color);\n",
              "    animation:\n",
              "      spin 1s steps(1) infinite;\n",
              "  }\n",
              "\n",
              "  @keyframes spin {\n",
              "    0% {\n",
              "      border-color: transparent;\n",
              "      border-bottom-color: var(--fill-color);\n",
              "      border-left-color: var(--fill-color);\n",
              "    }\n",
              "    20% {\n",
              "      border-color: transparent;\n",
              "      border-left-color: var(--fill-color);\n",
              "      border-top-color: var(--fill-color);\n",
              "    }\n",
              "    30% {\n",
              "      border-color: transparent;\n",
              "      border-left-color: var(--fill-color);\n",
              "      border-top-color: var(--fill-color);\n",
              "      border-right-color: var(--fill-color);\n",
              "    }\n",
              "    40% {\n",
              "      border-color: transparent;\n",
              "      border-right-color: var(--fill-color);\n",
              "      border-top-color: var(--fill-color);\n",
              "    }\n",
              "    60% {\n",
              "      border-color: transparent;\n",
              "      border-right-color: var(--fill-color);\n",
              "    }\n",
              "    80% {\n",
              "      border-color: transparent;\n",
              "      border-right-color: var(--fill-color);\n",
              "      border-bottom-color: var(--fill-color);\n",
              "    }\n",
              "    90% {\n",
              "      border-color: transparent;\n",
              "      border-bottom-color: var(--fill-color);\n",
              "    }\n",
              "  }\n",
              "</style>\n",
              "\n",
              "  <script>\n",
              "    async function quickchart(key) {\n",
              "      const quickchartButtonEl =\n",
              "        document.querySelector('#' + key + ' button');\n",
              "      quickchartButtonEl.disabled = true;  // To prevent multiple clicks.\n",
              "      quickchartButtonEl.classList.add('colab-df-spinner');\n",
              "      try {\n",
              "        const charts = await google.colab.kernel.invokeFunction(\n",
              "            'suggestCharts', [key], {});\n",
              "      } catch (error) {\n",
              "        console.error('Error during call to suggestCharts:', error);\n",
              "      }\n",
              "      quickchartButtonEl.classList.remove('colab-df-spinner');\n",
              "      quickchartButtonEl.classList.add('colab-df-quickchart-complete');\n",
              "    }\n",
              "    (() => {\n",
              "      let quickchartButtonEl =\n",
              "        document.querySelector('#df-89a801db-d4d6-4f0e-92b8-f7a4abdf874c button');\n",
              "      quickchartButtonEl.style.display =\n",
              "        google.colab.kernel.accessAllowed ? 'block' : 'none';\n",
              "    })();\n",
              "  </script>\n",
              "</div>\n",
              "    </div>\n",
              "  </div>\n"
            ],
            "application/vnd.google.colaboratory.intrinsic+json": {
              "type": "dataframe",
              "variable_name": "seed",
              "summary": "{\n  \"name\": \"seed\",\n  \"rows\": 210,\n  \"fields\": [\n    {\n      \"column\": \"Area\",\n      \"properties\": {\n        \"dtype\": \"number\",\n        \"std\": 2.909699430687361,\n        \"min\": 10.59,\n        \"max\": 21.18,\n        \"num_unique_values\": 193,\n        \"samples\": [\n          14.86,\n          12.49,\n          16.53\n        ],\n        \"semantic_type\": \"\",\n        \"description\": \"\"\n      }\n    },\n    {\n      \"column\": \"Perimeter\",\n      \"properties\": {\n        \"dtype\": \"number\",\n        \"std\": 1.305958726564022,\n        \"min\": 12.41,\n        \"max\": 17.25,\n        \"num_unique_values\": 170,\n        \"samples\": [\n          13.45,\n          14.41,\n          13.92\n        ],\n        \"semantic_type\": \"\",\n        \"description\": \"\"\n      }\n    },\n    {\n      \"column\": \"Compactness\",\n      \"properties\": {\n        \"dtype\": \"number\",\n        \"std\": 0.023629416583846496,\n        \"min\": 0.8081,\n        \"max\": 0.9183,\n        \"num_unique_values\": 186,\n        \"samples\": [\n          0.9064,\n          0.856,\n          0.8372\n        ],\n        \"semantic_type\": \"\",\n        \"description\": \"\"\n      }\n    },\n    {\n      \"column\": \"Kernel.Length\",\n      \"properties\": {\n        \"dtype\": \"number\",\n        \"std\": 0.4430634777264493,\n        \"min\": 4.899,\n        \"max\": 6.675,\n        \"num_unique_values\": 188,\n        \"samples\": [\n          5.183,\n          5.186,\n          5.205\n        ],\n        \"semantic_type\": \"\",\n        \"description\": \"\"\n      }\n    },\n    {\n      \"column\": \"Kernel.Width\",\n      \"properties\": {\n        \"dtype\": \"number\",\n        \"std\": 0.37771444490658734,\n        \"min\": 2.63,\n        \"max\": 4.033,\n        \"num_unique_values\": 184,\n        \"samples\": [\n          3.168,\n          3.393,\n          2.641\n        ],\n        \"semantic_type\": \"\",\n        \"description\": \"\"\n      }\n    },\n    {\n      \"column\": \"Asymmetry.Coeff\",\n      \"properties\": {\n        \"dtype\": \"number\",\n        \"std\": 1.5035571308217794,\n        \"min\": 0.7651,\n        \"max\": 8.456,\n        \"num_unique_values\": 207,\n        \"samples\": [\n          6.388,\n          4.185,\n          4.92\n        ],\n        \"semantic_type\": \"\",\n        \"description\": \"\"\n      }\n    },\n    {\n      \"column\": \"Kernel.Groove\",\n      \"properties\": {\n        \"dtype\": \"number\",\n        \"std\": 0.4914804991024052,\n        \"min\": 4.519,\n        \"max\": 6.55,\n        \"num_unique_values\": 148,\n        \"samples\": [\n          5.308,\n          4.703,\n          4.957\n        ],\n        \"semantic_type\": \"\",\n        \"description\": \"\"\n      }\n    },\n    {\n      \"column\": \"Type\",\n      \"properties\": {\n        \"dtype\": \"number\",\n        \"std\": 0,\n        \"min\": 0,\n        \"max\": 2,\n        \"num_unique_values\": 3,\n        \"samples\": [\n          0,\n          1,\n          2\n        ],\n        \"semantic_type\": \"\",\n        \"description\": \"\"\n      }\n    }\n  ]\n}"
            }
          },
          "metadata": {},
          "execution_count": 3
        }
      ]
    },
    {
      "cell_type": "code",
      "execution_count": null,
      "id": "a28569b2-f6fb-4d8b-a59f-d1823be1ccdc",
      "metadata": {
        "tags": [],
        "id": "a28569b2-f6fb-4d8b-a59f-d1823be1ccdc"
      },
      "outputs": [],
      "source": [
        "# Split data\n",
        "X = seed.drop('Type',axis=1).values\n",
        "y = seed['Type'].values\n",
        "\n",
        "# # Covert these to numpy arr\n",
        "# X = X.values\n",
        "# y = y.values\n",
        "\n",
        "# 20%test, 80%training\n",
        "X_train, X_test, y_train, y_test=train_test_split (X, y ,test_size = 0.2, random_state = 30)\n",
        "\n",
        "# Covert X and y to float tensors\n",
        "X_train = torch.FloatTensor(X_train)\n",
        "X_test = torch.FloatTensor(X_test)\n",
        "y_train = torch.LongTensor(y_train)\n",
        "y_test = torch.LongTensor(y_test)"
      ]
    },
    {
      "cell_type": "markdown",
      "id": "683cd8a7-e821-4cc7-b8f7-cd91d84d4b25",
      "metadata": {
        "id": "683cd8a7-e821-4cc7-b8f7-cd91d84d4b25"
      },
      "source": [
        "# Model5 (the best performance on accuracy)"
      ]
    },
    {
      "cell_type": "code",
      "execution_count": null,
      "id": "7595151f-151e-46b9-83ad-0790be9edeed",
      "metadata": {
        "tags": [],
        "id": "7595151f-151e-46b9-83ad-0790be9edeed"
      },
      "outputs": [],
      "source": [
        "#hidden nodes = 11, activation function = Tanh, Optimizer = SGD, learning epochs = 300, learning rate = 0.01, momentum = 0.9\n",
        "class Model5(nn.Module):\n",
        "\n",
        "    def __init__(self, in_features = 7, h1 = 11, out_features = 3):\n",
        "        super().__init__()\n",
        "        self.fc1 = nn.Linear(in_features, h1)\n",
        "        self.out = nn.Linear(h1, out_features)\n",
        "\n",
        "    def forward(self, x):\n",
        "        x = torch.tanh(self.fc1(x))  # Use tanh activation\n",
        "        x = torch.tanh(self.out(x))  # Use tanh activation\n",
        "\n",
        "        return x\n",
        "\n",
        "model5 = Model5()\n",
        "criterion = nn.CrossEntropyLoss()\n",
        "optimizer = torch.optim.SGD(model5.parameters(),lr=0.01)"
      ]
    },
    {
      "cell_type": "code",
      "execution_count": null,
      "id": "2fa7989d-b67a-4025-ac7d-c8915749f2d0",
      "metadata": {
        "tags": [],
        "id": "2fa7989d-b67a-4025-ac7d-c8915749f2d0",
        "outputId": "5594e321-d6fe-40b5-9e73-274e3918f89c",
        "colab": {
          "base_uri": "https://localhost:8080/"
        }
      },
      "outputs": [
        {
          "output_type": "execute_result",
          "data": {
            "text/plain": [
              "Model5(\n",
              "  (fc1): Linear(in_features=7, out_features=11, bias=True)\n",
              "  (out): Linear(in_features=11, out_features=3, bias=True)\n",
              ")"
            ]
          },
          "metadata": {},
          "execution_count": 6
        }
      ],
      "source": [
        "model5"
      ]
    },
    {
      "cell_type": "code",
      "execution_count": null,
      "id": "743488fd-bd8d-4693-80de-fafac5e2c915",
      "metadata": {
        "tags": [],
        "id": "743488fd-bd8d-4693-80de-fafac5e2c915",
        "colab": {
          "base_uri": "https://localhost:8080/"
        },
        "outputId": "cafa38a9-f3c1-47d3-db79-e1670d70e457"
      },
      "outputs": [
        {
          "output_type": "stream",
          "name": "stdout",
          "text": [
            "Stopping at maximum epochs, loss: 0.8156882524490356\n"
          ]
        }
      ],
      "source": [
        "#Train the model5\n",
        "epochs = 50\n",
        "error_threshold = 0.01\n",
        "t_max = 50\n",
        "losses = []\n",
        "\n",
        "for t in range(t_max):\n",
        "    optimizer.zero_grad()\n",
        "    y_pred = model5(X_train)\n",
        "    loss = criterion(y_pred, y_train)\n",
        "    loss.backward()\n",
        "    optimizer.step()\n",
        "    losses.append(loss.item())\n",
        "    if loss.item() < error_threshold:\n",
        "        print(f'Stopping early at epoch {t}, loss: {loss.item()}')\n",
        "        break\n",
        "    if t == t_max - 1:\n",
        "        print(f'Stopping at maximum epochs, loss: {loss.item()}')\n",
        "        break\n",
        "\n",
        "\n",
        "# for epoch in range(epochs):\n",
        "#     optimizer.zero_grad()\n",
        "#     y_pred = model5(X_train)\n",
        "#     loss = criterion(y_pred, y_train)\n",
        "#     loss.backward()\n",
        "#     optimizer.step()\n",
        "#     losses.append(loss.item())\n",
        "#     if loss.item() < error_threshold:\n",
        "#         print(f'Stopping early at epoch {epoch}, loss: {loss.item()}')\n",
        "#         break\n"
      ]
    },
    {
      "cell_type": "code",
      "execution_count": null,
      "id": "5c376aa7-f149-4136-8b2f-cb2ca0625997",
      "metadata": {
        "tags": [],
        "id": "5c376aa7-f149-4136-8b2f-cb2ca0625997",
        "outputId": "c5057657-d423-4e1c-9508-28ce8f66e4a7",
        "colab": {
          "base_uri": "https://localhost:8080/",
          "height": 388
        }
      },
      "outputs": [
        {
          "output_type": "execute_result",
          "data": {
            "text/plain": [
              "Text(0.5, 0, 'Epoch')"
            ]
          },
          "metadata": {},
          "execution_count": 19
        },
        {
          "output_type": "display_data",
          "data": {
            "text/plain": [
              "<Figure size 640x480 with 1 Axes>"
            ],
            "image/png": "[encoded data removed]"
          },
          "metadata": {}
        }
      ],
      "source": [
        "plt.plot(range(len(losses)), losses)\n",
        "plt.ylabel('loss/error')\n",
        "plt.xlabel('Epoch')"
      ]
    },
    {
      "cell_type": "code",
      "execution_count": null,
      "id": "62feec4f-818d-4deb-83be-288e32fcc099",
      "metadata": {
        "tags": [],
        "id": "62feec4f-818d-4deb-83be-288e32fcc099"
      },
      "outputs": [],
      "source": [
        "# Evaluate Model1 on test dataset (validation model1 on test set)\n",
        "with torch.no_grad(): #basically turn off back propogation\n",
        "    y_eval = model5(X_test) #X_test are features from our test set, y_eval will be predictions\n",
        "    loss = criterion(y_eval,y_test)# Find the loss or error"
      ]
    },
    {
      "cell_type": "code",
      "execution_count": null,
      "id": "4c046d24-f9e5-4a54-87f2-96a92a1e92f6",
      "metadata": {
        "tags": [],
        "id": "4c046d24-f9e5-4a54-87f2-96a92a1e92f6",
        "outputId": "e3246eaf-f4ad-4dc4-b0e2-8f4a48bc7b02",
        "colab": {
          "base_uri": "https://localhost:8080/"
        }
      },
      "outputs": [
        {
          "output_type": "execute_result",
          "data": {
            "text/plain": [
              "tensor(0.8494)"
            ]
          },
          "metadata": {},
          "execution_count": 21
        }
      ],
      "source": [
        "loss"
      ]
    },
    {
      "cell_type": "code",
      "execution_count": null,
      "id": "8cb7a11d-835b-4582-9b22-6c1e7ef52e00",
      "metadata": {
        "tags": [],
        "id": "8cb7a11d-835b-4582-9b22-6c1e7ef52e00",
        "outputId": "47faf566-bab8-4e54-8c71-daad08264956",
        "colab": {
          "base_uri": "https://localhost:8080/"
        }
      },
      "outputs": [
        {
          "output_type": "stream",
          "name": "stdout",
          "text": [
            "1. tensor([ 0.0769,  0.1262, -0.3059]) \t 1 \t 1\n",
            "2. tensor([ 0.0612, -0.1345,  0.4047]) \t 2 \t 2\n",
            "3. tensor([ 0.0932, -0.2409,  0.5434]) \t 2 \t 2\n",
            "4. tensor([-0.0713,  0.3343, -0.5404]) \t 1 \t 1\n",
            "5. tensor([ 0.2573,  0.0201, -0.5347]) \t 0 \t 0\n",
            "6. tensor([ 0.1035, -0.1703,  0.3820]) \t 2 \t 2\n",
            "7. tensor([ 0.2211, -0.1328, -0.0051]) \t 0 \t 0\n",
            "8. tensor([ 0.2209, -0.0206, -0.3087]) \t 0 \t 0\n",
            "9. tensor([ 0.0702, -0.2302,  0.5684]) \t 2 \t 2\n",
            "10. tensor([-0.1679,  0.3573, -0.2933]) \t 1 \t 1\n",
            "11. tensor([ 0.2622,  0.0053, -0.4797]) \t 0 \t 0\n",
            "12. tensor([-0.2532,  0.4769, -0.4582]) \t 1 \t 1\n",
            "13. tensor([-0.0137,  0.2105, -0.2879]) \t 1 \t 1\n",
            "14. tensor([ 0.1100,  0.1448, -0.4463]) \t 0 \t 1\n",
            "15. tensor([ 0.1282, -0.2671,  0.5215]) \t 2 \t 2\n",
            "16. tensor([ 0.2579, -0.1194, -0.1547]) \t 2 \t 0\n",
            "17. tensor([ 0.1670, -0.1931,  0.2695]) \t 2 \t 2\n",
            "18. tensor([-0.0015, -0.1597,  0.5854]) \t 2 \t 2\n",
            "19. tensor([ 0.2062, -0.0334, -0.2262]) \t 0 \t 0\n",
            "20. tensor([ 0.0601, -0.1879,  0.5094]) \t 2 \t 2\n",
            "21. tensor([ 0.3366, -0.1768, -0.2455]) \t 2 \t 0\n",
            "22. tensor([-0.1264,  0.3773, -0.5017]) \t 1 \t 1\n",
            "23. tensor([ 0.1204,  0.0036, -0.0792]) \t 0 \t 0\n",
            "24. tensor([ 0.1190, -0.1111,  0.2073]) \t 0 \t 2\n",
            "25. tensor([-0.0440,  0.3106, -0.5569]) \t 1 \t 1\n",
            "26. tensor([ 0.0934,  0.1780, -0.5134]) \t 0 \t 1\n",
            "27. tensor([ 0.4010, -0.2179, -0.3054]) \t 0 \t 0\n",
            "28. tensor([ 0.0719, -0.2640,  0.6350]) \t 2 \t 2\n",
            "29. tensor([-0.0017,  0.2715, -0.5399]) \t 1 \t 1\n",
            "30. tensor([ 0.1589, -0.2017,  0.3074]) \t 2 \t 2\n",
            "31. tensor([ 0.0861, -0.2390,  0.5615]) \t 2 \t 2\n",
            "32. tensor([-0.0102,  0.2811, -0.5522]) \t 1 \t 1\n",
            "33. tensor([ 0.2914, -0.2417,  0.0686]) \t 0 \t 0\n",
            "34. tensor([ 0.1316,  0.1038, -0.4057]) \t 1 \t 0\n",
            "35. tensor([ 0.1921, -0.1567,  0.1081]) \t 2 \t 0\n",
            "36. tensor([-0.1329,  0.3805, -0.4858]) \t 1 \t 1\n",
            "37. tensor([-0.0370,  0.2802, -0.4279]) \t 1 \t 1\n",
            "38. tensor([ 0.2618, -0.0059, -0.4740]) \t 0 \t 0\n",
            "39. tensor([ 0.1496, -0.2657,  0.4745]) \t 2 \t 2\n",
            "40. tensor([ 0.0710, -0.2141,  0.5413]) \t 2 \t 2\n",
            "41. tensor([ 0.0927,  0.1507, -0.4103]) \t 1 \t 1\n",
            "42. tensor([ 0.1960,  0.0888, -0.5626]) \t 0 \t 0\n",
            "we got 35 correct!\n",
            "the accuracy is 0.8333333333333334\n"
          ]
        }
      ],
      "source": [
        "correct = 0\n",
        "with torch.no_grad():\n",
        "    for i, data in enumerate(X_test):\n",
        "        y_val = model5(data)\n",
        "        print(f'{i+1}. {str(y_val)} \\t {y_test[i]} \\t {y_val.argmax().item()}')\n",
        "        if y_val.argmax().item() == y_test[i]:\n",
        "            correct += 1\n",
        "\n",
        "print(f'we got {correct} correct!')\n",
        "print(f'the accuracy is {correct/len(y_test)}')"
      ]
    }
  ],
  "metadata": {
    "kernelspec": {
      "display_name": "Python 3 (ipykernel)",
      "language": "python",
      "name": "python3"
    },
    "language_info": {
      "codemirror_mode": {
        "name": "ipython",
        "version": 3
      },
      "file_extension": ".py",
      "mimetype": "text/x-python",
      "name": "python",
      "nbconvert_exporter": "python",
      "pygments_lexer": "ipython3",
      "version": "3.11.4"
    },
    "colab": {
      "provenance": [],
      "include_colab_link": true
    }
  },
  "nbformat": 4,
  "nbformat_minor": 5
}